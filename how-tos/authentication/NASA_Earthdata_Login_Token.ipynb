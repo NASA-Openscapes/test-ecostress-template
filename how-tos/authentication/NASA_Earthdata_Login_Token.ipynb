{
 "cells": [
  {
   "cell_type": "markdown",
   "id": "351206d0-246c-4cf3-9ec1-2b88148d18e6",
   "metadata": {},
   "source": [
    "# Generate a NASA Earthdata Login Token"
   ]
  },
  {
   "cell_type": "code",
   "execution_count": null,
   "id": "f4235855-dab5-4d2f-9215-f9fd9b9adaad",
   "metadata": {},
   "outputs": [],
   "source": [
    "import requests\n",
    "import netrc\n",
    "from datetime import datetime\n",
    "import json\n",
    "import os"
   ]
  },
  {
   "cell_type": "markdown",
   "id": "64c42a1a-6ff7-458b-9028-00b467669f55",
   "metadata": {},
   "source": [
    "## Read netrc file to get EDL information"
   ]
  },
  {
   "cell_type": "code",
   "execution_count": null,
   "id": "7c0c1d45-a6a4-401b-86ed-04e5e5f89d0c",
   "metadata": {},
   "outputs": [],
   "source": [
    "def get_edl_creds():\n",
    "    nc = netrc.netrc()\n",
    "    remoteHostName = \"urs.earthdata.nasa.gov\"\n",
    "    edl_creds = nc.authenticators(remoteHostName)\n",
    "    return {'username':edl_creds[0], 'password':edl_creds[2]}"
   ]
  },
  {
   "cell_type": "markdown",
   "id": "87bb6f52-5fed-4465-a25c-5e85f2600ee8",
   "metadata": {},
   "source": [
    "## Specify the URLs for generating new tokens, listing available tokens, and revoking available tokens"
   ]
  },
  {
   "cell_type": "code",
   "execution_count": null,
   "id": "fbe69e7d-76e7-4120-a3bf-c69f903a1a3a",
   "metadata": {},
   "outputs": [],
   "source": [
    "edl_token_urls = {\n",
    "    'generate_token':'https://urs.earthdata.nasa.gov/api/users/token',\n",
    "    'list_token':'https://urs.earthdata.nasa.gov/api/users/tokens',\n",
    "    'revoke_token': 'https://urs.earthdata.nasa.gov/api/users/revoke_token'\n",
    "}"
   ]
  },
  {
   "cell_type": "markdown",
   "id": "9c767c7f-be47-40d3-a3ad-97a85f62340d",
   "metadata": {},
   "source": [
    "## Create a hidden directory to store the output json file with EDL tokens"
   ]
  },
  {
   "cell_type": "code",
   "execution_count": null,
   "id": "27db0c0c-a5bb-485a-80d3-8ffd3c6126f5",
   "metadata": {},
   "outputs": [],
   "source": [
    "if not os.path.isdir('../../../.hidden_dir'):\n",
    "    os.mkdir('../../../.hidden_dir')    "
   ]
  },
  {
   "cell_type": "markdown",
   "id": "3a0eb93d-bebf-4bfe-9564-a20d13178d33",
   "metadata": {},
   "source": [
    "## Check if a valid token exists or generate a new token"
   ]
  },
  {
   "cell_type": "code",
   "execution_count": null,
   "id": "fe1c09bc-9f59-49de-a9b8-5702cae2d99b",
   "metadata": {},
   "outputs": [],
   "source": [
    "if len(list_tokens := requests.get(edl_token_urls['list_token'], auth=(get_edl_creds()['username'], get_edl_creds()['password'])).json()) < 1:\n",
    "    #print('No tokens available. Generating new Earthdata Login Token ...')\n",
    "    generate_token_url = \"https://urs.earthdata.nasa.gov/api/users/token\"\n",
    "    generate_token_req = requests.post(edl_token_urls['generate_token'], auth=(get_edl_creds()['username'], get_edl_creds()['password']))\n",
    "    token = generate_token_req.json()\n",
    "    with open(\"../../../.hidden_dir/edl_token.json\", \"w\") as outfile:\n",
    "        json.dump(token, outfile)\n",
    "    print(f'Your EDL token information can be found here: {os.path.abspath(\"../../../.hidden_dir/edl_token.json\")}')\n",
    "elif datetime.strptime(list_tokens[0]['expiration_date'], \"%m/%d/%Y\") < datetime.now():\n",
    "    #print('Available token is expired. Generating a new Earthdata Login Token ...')\n",
    "    revoke_token = requests.post(f\"{edl_token_urls['revoke_token']}?token={list_tokens[0]}\", auth=(get_edl_creds()['username'], get_edl_creds()['password']))\n",
    "    generate_token_req = requests.post(edl_token_urls['generate_token'], auth=(get_edl_creds()['username'], get_edl_creds()['password']))\n",
    "    token = generate_token_req.json()\n",
    "    with open(\"../../../.hidden_dir/edl_token.json\", \"w\") as outfile:\n",
    "        json.dump(token, outfile)\n",
    "    print(f'Your EDL token information can be found here: {os.path.abspath(\"../../../.hidden_dir/edl_token.json\")}')\n",
    "else:\n",
    "    #print('Earthdata Login Token Found ...')\n",
    "    with open(\"../../../.hidden_dir/edl_token.json\", \"w\") as outfile:\n",
    "        json.dump(list_tokens[0], outfile)\n",
    "    print(f'Your EDL token information can be found here: {os.path.abspath(\"../../../.hidden_dir/edl_token.json\")}')"
   ]
  },
  {
   "cell_type": "markdown",
   "id": "565297a7-6bca-4353-9038-3f9e9403b09b",
   "metadata": {},
   "source": [
    "---"
   ]
  },
  {
   "cell_type": "markdown",
   "id": "1d168219-59c3-4820-8604-fdd12edebc53",
   "metadata": {},
   "source": [
    "## Resources\n",
    "\n",
    "- https://wiki.earthdata.nasa.gov/display/EL/How+to+Generate+a+User+Token\n",
    "- https://urs.earthdata.nasa.gov/documentation/for_users/user_token"
   ]
  },
  {
   "cell_type": "code",
   "execution_count": null,
   "id": "7d3bc5cc-2693-4822-b101-b8c0248f102f",
   "metadata": {},
   "outputs": [],
   "source": []
  }
 ],
 "metadata": {
  "kernelspec": {
   "display_name": "Python 3 (ipykernel)",
   "language": "python",
   "name": "python3"
  },
  "language_info": {
   "codemirror_mode": {
    "name": "ipython",
    "version": 3
   },
   "file_extension": ".py",
   "mimetype": "text/x-python",
   "name": "python",
   "nbconvert_exporter": "python",
   "pygments_lexer": "ipython3",
   "version": "3.9.12"
  }
 },
 "nbformat": 4,
 "nbformat_minor": 5
}
