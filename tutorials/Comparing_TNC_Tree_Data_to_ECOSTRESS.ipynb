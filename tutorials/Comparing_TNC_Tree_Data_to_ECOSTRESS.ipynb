{
 "cells": [
  {
   "cell_type": "code",
   "execution_count": null,
   "metadata": {},
   "outputs": [],
   "source": [
    "import xarray as xr\n",
    "import rioxarray\n",
    "import rasterio as rio\n",
    "import os\n",
    "import holoviews as hv\n",
    "import hvplot.xarray\n",
    "import hvplot.pandas\n",
    "import geopandas as gpd\n",
    "import shapely\n",
    "from shapely.geometry import box\n",
    "from shapely.geometry import Point\n",
    "from pyproj import Transformer\n",
    "from matplotlib.colors import ListedColormap\n",
    "#import rasterstats\n",
    "import numpy as np\n",
    "import seaborn as sns\n",
    "from datetime import datetime\n",
    "from datetime import timedelta\n",
    "from os.path import basename\n",
    "import xarray\n",
    "import pandas as pd\n",
    "from scipy.stats import zscore\n",
    "from matplotlib.colors import LinearSegmentedColormap\n",
    "import matplotlib.pyplot as plt"
   ]
  },
  {
   "cell_type": "code",
   "execution_count": null,
   "metadata": {},
   "outputs": [],
   "source": [
    "!mamba install rasterstats -q -y"
   ]
  },
  {
   "cell_type": "code",
   "execution_count": null,
   "metadata": {},
   "outputs": [],
   "source": [
    "import rasterstats"
   ]
  },
  {
   "cell_type": "code",
   "execution_count": null,
   "metadata": {},
   "outputs": [],
   "source": [
    "FIG_WIDTH_PX = 1080\n",
    "FIG_HEIGHT_PX = 720\n",
    "FIG_WIDTH_IN = 16\n",
    "FIG_HEIGHT_IN = 9"
   ]
  },
  {
   "cell_type": "code",
   "execution_count": null,
   "metadata": {},
   "outputs": [],
   "source": [
    "ET_filename = '/home/jovyan/shared/2022-ecostress-workshop/ECOv002_L3T_ET_PT-JPL_12653_004_10SGD_20200928T224329_0700_01/ECOv002_L3T_ET_PT-JPL_12653_004_10SGD_20200928T224329_0700_01_ETdaily.tif'\n",
    "ST_filename = '/home/jovyan/shared/2022-ecostress-workshop/ECOv002_L2T_LSTE_12653_004_10SGD_20200928T224329_0700_01/ECOv002_L2T_LSTE_12653_004_10SGD_20200928T224329_0700_01_LST.tif'\n",
    "SM_filename = '/home/jovyan/shared/2022-ecostress-workshop/ECOv002_L3T_SM_PT-JPL_12653_004_10SGD_20200928T224329_0700_01/ECOv002_L3T_SM_PT-JPL_12653_004_10SGD_20200928T224329_0700_01_SM.tif'\n",
    "NDVI_filename = '/home/jovyan/shared/2022-ecostress-workshop/ECOv002_L2T_STARS_12653_004_10SGD_20200928_0700_01/ECOv002_L2T_STARS_12653_004_10SGD_20200928_0700_01_NDVI.tif'"
   ]
  },
  {
   "cell_type": "markdown",
   "metadata": {},
   "source": [
    "Let's use `rioxarray` to open the surface temperature layer from the L2T_LSTE product on the 10SGD tile covering the Dangermond Preserve and take a first look at this image using `hvplot`."
   ]
  },
  {
   "cell_type": "code",
   "execution_count": null,
   "metadata": {},
   "outputs": [],
   "source": [
    "ET_image = rioxarray.open_rasterio(ET_filename, chunks='auto').squeeze('band', drop=True)\n",
    "ET_image"
   ]
  },
  {
   "cell_type": "markdown",
   "metadata": {},
   "source": [
    "The ECOSTRESS Collection 2 tiled products are gridded in local UTM, following Sentinel convention, and this gridding is sampled at 70 m."
   ]
  },
  {
   "cell_type": "code",
   "execution_count": null,
   "metadata": {},
   "outputs": [],
   "source": [
    "crs = ET_image.rio.crs\n",
    "print(f\"CRS: {crs}\")\n",
    "cell_width, cell_height = ET_image.rio.resolution()\n",
    "print(f\"resolution: {cell_width} m\")"
   ]
  },
  {
   "cell_type": "code",
   "execution_count": null,
   "metadata": {},
   "outputs": [],
   "source": [
    "centroid_UTM = Point(np.nanmean(ET_image.x), np.nanmean(ET_image.y))\n",
    "centroid_latlon = shapely.ops.transform(Transformer.from_crs(crs, \"EPSG:4326\", always_xy=True).transform, centroid_UTM)\n",
    "centroid_latlon.wkt"
   ]
  },
  {
   "cell_type": "markdown",
   "metadata": {},
   "source": [
    "The date for this ECOSTRESS scene is September 28th, 2020. This overpass was around 2:45 in the afternoon.\n"
   ]
  },
  {
   "cell_type": "code",
   "execution_count": null,
   "metadata": {},
   "outputs": [],
   "source": [
    "dt = datetime.strptime(basename(ET_filename).split(\"_\")[-4], \"%Y%m%dT%H%M%S\")\n",
    "dt_solar = dt + timedelta(hours=(np.radians(centroid_latlon.x) / np.pi * 12))\n",
    "print(f\"date/time UTC: {dt:%Y-%m-%d %H:%M:%S}\")\n",
    "print(f\"date/time solar: {dt_solar:%Y-%m-%d %H:%M:%S}\")"
   ]
  },
  {
   "cell_type": "markdown",
   "metadata": {},
   "source": [
    "To plot this image on top of a basemap, we'll reproject it on the fly to match the basemap."
   ]
  },
  {
   "cell_type": "code",
   "execution_count": null,
   "metadata": {},
   "outputs": [],
   "source": [
    "ET_CMAP = [\n",
    "    \"#f6e8c3\",\n",
    "    \"#d8b365\",\n",
    "    \"#99974a\",\n",
    "    \"#53792d\",\n",
    "    \"#6bdfd2\",\n",
    "    \"#1839c5\"\n",
    "]"
   ]
  },
  {
   "cell_type": "code",
   "execution_count": null,
   "metadata": {},
   "outputs": [],
   "source": [
    "ET_map = ET_image.rio.reproject(\"EPSG:3857\").hvplot.image(\n",
    "    cmap=ET_CMAP, \n",
    "    tiles=\"ESRI\", \n",
    "    alpha=0.7,\n",
    "    width=FIG_WIDTH_PX,\n",
    "    height=FIG_HEIGHT_PX,\n",
    "    clim=(ET_image.quantile(0.02), ET_image.quantile(0.98)),\n",
    "    title=basename(ET_filename)\n",
    ")\n",
    "\n",
    "ET_map"
   ]
  },
  {
   "cell_type": "code",
   "execution_count": null,
   "metadata": {},
   "outputs": [],
   "source": [
    "ST_image = rioxarray.open_rasterio(ST_filename).squeeze(\"band\", drop=True)"
   ]
  },
  {
   "cell_type": "code",
   "execution_count": null,
   "metadata": {},
   "outputs": [],
   "source": [
    "ST_CMAP = \"jet\"\n",
    "\n",
    "attrs = ST_image.attrs\n",
    "ST_image -= 273.15\n",
    "ST_image.attrs = attrs"
   ]
  },
  {
   "cell_type": "code",
   "execution_count": null,
   "metadata": {},
   "outputs": [],
   "source": [
    "ST_map = ST_image.rio.reproject(\"EPSG:3857\").hvplot.image(\n",
    "    cmap=ST_CMAP, \n",
    "    tiles=\"ESRI\", \n",
    "    alpha=0.7,\n",
    "    width=FIG_WIDTH_PX,\n",
    "    height=FIG_HEIGHT_PX,\n",
    "    clim=(ST_image.quantile(0.02), ST_image.quantile(0.98)),\n",
    "    title=basename(ST_filename)\n",
    ")\n",
    "\n",
    "ST_map"
   ]
  },
  {
   "cell_type": "code",
   "execution_count": null,
   "metadata": {},
   "outputs": [],
   "source": [
    "SM_image = rioxarray.open_rasterio(SM_filename).squeeze(\"band\", drop=True)"
   ]
  },
  {
   "cell_type": "code",
   "execution_count": null,
   "metadata": {},
   "outputs": [],
   "source": [
    "SM_CMAP = [\n",
    "    \"#f6e8c3\",\n",
    "    \"#d8b365\",\n",
    "    \"#99894a\",\n",
    "    \"#2d6779\",\n",
    "    \"#6bdfd2\",\n",
    "    \"#1839c5\"\n",
    "]"
   ]
  },
  {
   "cell_type": "code",
   "execution_count": null,
   "metadata": {},
   "outputs": [],
   "source": [
    "SM_map = SM_image.rio.reproject(\"EPSG:3857\").hvplot.image(\n",
    "    cmap=SM_CMAP, \n",
    "    tiles=\"ESRI\", \n",
    "    alpha=0.7,\n",
    "    width=FIG_WIDTH_PX,\n",
    "    height=FIG_HEIGHT_PX,\n",
    "    clim=(SM_image.quantile(0.02), SM_image.quantile(0.98)),\n",
    "    title=basename(SM_filename)\n",
    ")\n",
    "\n",
    "SM_map"
   ]
  },
  {
   "cell_type": "code",
   "execution_count": null,
   "metadata": {},
   "outputs": [],
   "source": [
    "NDVI_image = rioxarray.open_rasterio(NDVI_filename).squeeze(\"band\", drop=True)"
   ]
  },
  {
   "cell_type": "code",
   "execution_count": null,
   "metadata": {},
   "outputs": [],
   "source": [
    "NDVI_CMAP = [\n",
    "    \"#0000ff\",\n",
    "    \"#000000\",\n",
    "    \"#745d1a\",\n",
    "    \"#e1dea2\",\n",
    "    \"#45ff01\",\n",
    "    \"#325e32\"\n",
    "]"
   ]
  },
  {
   "cell_type": "code",
   "execution_count": null,
   "metadata": {},
   "outputs": [],
   "source": [
    "NDVI_map = NDVI_image.rio.reproject(\"EPSG:3857\").hvplot.image(\n",
    "    cmap=NDVI_CMAP, \n",
    "    tiles=\"ESRI\", \n",
    "    alpha=0.7,\n",
    "    width=FIG_WIDTH_PX,\n",
    "    height=FIG_HEIGHT_PX,\n",
    "    clim=(NDVI_image.quantile(0.02), NDVI_image.quantile(0.98)),\n",
    "    title=basename(NDVI_filename)\n",
    ")\n",
    "\n",
    "NDVI_map"
   ]
  },
  {
   "cell_type": "markdown",
   "metadata": {},
   "source": [
    "Let's open our ground observations provided by the Nature Conservancy. TNC recorded observations of tree health for each tree and the location of the tree in latitude and longitude. These are qualitative categories of good, poor, and dead."
   ]
  },
  {
   "cell_type": "code",
   "execution_count": null,
   "metadata": {
    "tags": []
   },
   "outputs": [],
   "source": [
    "TNC_fall_2020 = gpd.read_file(\"../data/TNC_fall_2020.geojson\")\n",
    "print(TNC_fall_2020.crs)\n",
    "TNC_fall_2020.total_bounds"
   ]
  },
  {
   "cell_type": "markdown",
   "metadata": {},
   "source": [
    "To compare our in situ point data with the projected raster data, we need to project these coordinates into the local UTM projection of the raster image."
   ]
  },
  {
   "cell_type": "code",
   "execution_count": null,
   "metadata": {},
   "outputs": [],
   "source": [
    "TNC_fall_2020 = TNC_fall_2020.to_crs(ET_image.rio.crs)\n",
    "print(TNC_fall_2020.crs)"
   ]
  },
  {
   "cell_type": "code",
   "execution_count": null,
   "metadata": {},
   "outputs": [],
   "source": [
    "TNC_fall_2020.head()"
   ]
  },
  {
   "cell_type": "code",
   "execution_count": null,
   "metadata": {},
   "outputs": [],
   "source": [
    "TNC_fall_2020.total_bounds"
   ]
  },
  {
   "cell_type": "markdown",
   "metadata": {},
   "source": [
    "Let's map out the in situ data. We'll again reproject these points on the fly to match the basemap. Let's assign colors to these categories as well, which we'll use throughout the notebook."
   ]
  },
  {
   "cell_type": "code",
   "execution_count": null,
   "metadata": {},
   "outputs": [],
   "source": [
    "# is there a way to get the point colors in a legend?\n",
    "tree_palette = {\n",
    "    \"dead\": \"black\",\n",
    "    \"poor\": \"red\",\n",
    "    \"other\": \"white\",\n",
    "    \"good\": \"green\"\n",
    "}\n",
    "\n",
    "TNC_fall_2020.to_crs(\"EPSG:3857\").hvplot.points(\n",
    "    color=TNC_fall_2020[\"health\"].apply(lambda health: tree_palette[health]), \n",
    "    tiles=\"ESRI\", \n",
    "    size=1.5, \n",
    "    width=FIG_WIDTH_PX, \n",
    "    height=FIG_HEIGHT_PX,\n",
    "    title=\"The Nature Conservancy Fall 2020 Tree Survey\"\n",
    ")"
   ]
  },
  {
   "cell_type": "markdown",
   "metadata": {},
   "source": [
    "In this projected space, let's get the bounds of our study area in meters from the convex hull of our observation locations with a 100 meter buffer."
   ]
  },
  {
   "cell_type": "code",
   "execution_count": null,
   "metadata": {},
   "outputs": [],
   "source": [
    "xmin, ymin, xmax, ymax = TNC_fall_2020.unary_union.convex_hull.buffer(100).bounds\n",
    "xmin, ymin, xmax, ymax"
   ]
  },
  {
   "cell_type": "code",
   "execution_count": null,
   "metadata": {},
   "outputs": [],
   "source": [
    "TNC_fall_2020.buffer(100).total_bounds ### Similar to above..."
   ]
  },
  {
   "cell_type": "markdown",
   "metadata": {},
   "source": [
    "Let's look at the tree health points overlayed on top of ECOSTRESS evapotranspiration.\n"
   ]
  },
  {
   "cell_type": "code",
   "execution_count": null,
   "metadata": {},
   "outputs": [],
   "source": [
    "ET_subset = ET_image.rio.clip([box(xmin, ymin, xmax, ymax)])"
   ]
  },
  {
   "cell_type": "code",
   "execution_count": null,
   "metadata": {},
   "outputs": [],
   "source": [
    "raster_map = ET_subset.rio.reproject(\"EPSG:3857\").hvplot.image(\n",
    "    cmap=ET_CMAP, \n",
    "    tiles=\"OSM\", \n",
    "    alpha=0.7,\n",
    "    width=FIG_WIDTH_PX,\n",
    "    height=FIG_HEIGHT_PX,\n",
    "    clim=(ET_subset.quantile(0.02), ET_subset.quantile(0.98))\n",
    ")\n",
    "\n",
    "point_map = TNC_fall_2020.to_crs(\"EPSG:3857\").hvplot.points(\n",
    "    color=TNC_fall_2020[\"health\"].apply(lambda health: tree_palette[health]), \n",
    "    size=1.5, \n",
    "    alpha=0.7,\n",
    "    width=FIG_WIDTH_PX, \n",
    "    height=FIG_HEIGHT_PX\n",
    ")\n",
    "\n",
    "raster_map * point_map"
   ]
  },
  {
   "cell_type": "markdown",
   "metadata": {},
   "source": [
    "Now let's look at the tree health points on top of ECOSTRESS surface temperature."
   ]
  },
  {
   "cell_type": "code",
   "execution_count": null,
   "metadata": {},
   "outputs": [],
   "source": [
    "ST_subset = ST_image.rio.clip([box(xmin, ymin, xmax, ymax)])"
   ]
  },
  {
   "cell_type": "code",
   "execution_count": null,
   "metadata": {},
   "outputs": [],
   "source": [
    "raster_map = ST_subset.rio.reproject(\"EPSG:3857\").hvplot.image(\n",
    "    cmap=ST_CMAP, \n",
    "    tiles=\"OSM\", \n",
    "    alpha=0.7,\n",
    "    width=FIG_WIDTH_PX,\n",
    "    height=FIG_HEIGHT_PX,\n",
    "    clim=(ST_subset.quantile(0.02), ST_subset.quantile(0.98)),\n",
    "    title=\"ECOSTRESS Surface Temperature and in situ Tree Health\"\n",
    ")\n",
    "\n",
    "point_map = TNC_fall_2020.to_crs(\"EPSG:3857\").hvplot.points(\n",
    "    color=TNC_fall_2020[\"health\"].apply(lambda health: tree_palette[health]), \n",
    "    size=1.5, \n",
    "    alpha=0.7,\n",
    "    width=FIG_WIDTH_PX, \n",
    "    height=FIG_HEIGHT_PX\n",
    ")\n",
    "\n",
    "raster_map * point_map"
   ]
  },
  {
   "cell_type": "markdown",
   "metadata": {},
   "source": [
    "And let's look at tree health on top of soil moisture."
   ]
  },
  {
   "cell_type": "code",
   "execution_count": null,
   "metadata": {},
   "outputs": [],
   "source": [
    "SM_subset = SM_image.rio.clip([box(xmin, ymin, xmax, ymax)])"
   ]
  },
  {
   "cell_type": "code",
   "execution_count": null,
   "metadata": {},
   "outputs": [],
   "source": [
    "raster_map = SM_subset.rio.reproject(\"EPSG:3857\").hvplot.image(\n",
    "    cmap=SM_CMAP, \n",
    "    tiles=\"OSM\", \n",
    "    alpha=0.7,\n",
    "    width=FIG_WIDTH_PX,\n",
    "    height=FIG_HEIGHT_PX,\n",
    "    clim=(SM_subset.quantile(0.02), SM_subset.quantile(0.98)),\n",
    "    title=\"ECOSTRESS Soil Moisture and in situ Tree Health\"\n",
    ")\n",
    "\n",
    "point_map = TNC_fall_2020.to_crs(\"EPSG:3857\").hvplot.points(\n",
    "    color=TNC_fall_2020[\"health\"].apply(lambda health: tree_palette[health]), \n",
    "    size=1.5, \n",
    "    alpha=0.7,\n",
    "    width=FIG_WIDTH_PX, \n",
    "    height=FIG_HEIGHT_PX\n",
    ")\n",
    "\n",
    "raster_map * point_map"
   ]
  },
  {
   "cell_type": "markdown",
   "metadata": {},
   "source": [
    "And here's tree health on top of vegetation index."
   ]
  },
  {
   "cell_type": "code",
   "execution_count": null,
   "metadata": {},
   "outputs": [],
   "source": [
    "NDVI_subset = NDVI_image.rio.clip([box(xmin, ymin, xmax, ymax)])"
   ]
  },
  {
   "cell_type": "code",
   "execution_count": null,
   "metadata": {},
   "outputs": [],
   "source": [
    "raster_map = NDVI_subset.rio.reproject(\"EPSG:3857\").hvplot.image(\n",
    "    cmap=NDVI_CMAP, \n",
    "    tiles=\"OSM\", \n",
    "    alpha=0.7,\n",
    "    width=FIG_WIDTH_PX,\n",
    "    height=FIG_HEIGHT_PX,\n",
    "    clim=(NDVI_subset.quantile(0.02), NDVI_subset.quantile(0.98)),\n",
    "    title=\"ECOSTRESS Vegetation Index and in situ Tree Health\"\n",
    ")\n",
    "\n",
    "point_map = TNC_fall_2020.to_crs(\"EPSG:3857\").hvplot.points(\n",
    "    color=TNC_fall_2020[\"health\"].apply(lambda health: tree_palette[health]), \n",
    "    size=1.5, \n",
    "    alpha=0.7,\n",
    "    width=FIG_WIDTH_PX, \n",
    "    height=FIG_HEIGHT_PX\n",
    ")\n",
    "\n",
    "raster_map * point_map"
   ]
  },
  {
   "cell_type": "markdown",
   "metadata": {},
   "source": [
    "To match these datasets together, let's interpolate the ECOSTRESS rasters for evapotranspiration, surface temperature, soil moisture, and vegetation index to the Nature Conservency tree locations and make these sampled remote sensing data new columns in our table of tree observations."
   ]
  },
  {
   "cell_type": "code",
   "execution_count": null,
   "metadata": {},
   "outputs": [],
   "source": [
    "TNC_fall_2020[\"ET\"] = rasterstats.point_query(\n",
    "    vectors=TNC_fall_2020.geometry,\n",
    "    raster=np.array(ET_subset),\n",
    "    nodata=np.nan,\n",
    "    affine=ET_subset.rio.transform()\n",
    ")\n",
    "\n",
    "TNC_fall_2020[\"ST\"] = rasterstats.point_query(\n",
    "    vectors=TNC_fall_2020.geometry,\n",
    "    raster=np.array(ST_subset),\n",
    "    nodata=np.nan,\n",
    "    affine=ST_subset.rio.transform()\n",
    ")\n",
    "\n",
    "TNC_fall_2020[\"SM\"] = rasterstats.point_query(\n",
    "    vectors=TNC_fall_2020.geometry,\n",
    "    raster=np.array(SM_subset),\n",
    "    nodata=np.nan,\n",
    "    affine=SM_subset.rio.transform()\n",
    ")\n",
    "\n",
    "TNC_fall_2020[\"NDVI\"] = rasterstats.point_query(\n",
    "    vectors=TNC_fall_2020.geometry,\n",
    "    raster=np.array(NDVI_subset),\n",
    "    nodata=np.nan,\n",
    "    affine=NDVI_subset.rio.transform()\n",
    ")"
   ]
  },
  {
   "cell_type": "code",
   "execution_count": null,
   "metadata": {},
   "outputs": [],
   "source": [
    "TNC_fall_2020 = TNC_fall_2020[[\"health\", \"ET\", \"ST\", \"SM\", \"NDVI\", \"geometry\"]]\n",
    "TNC_fall_2020.head()"
   ]
  },
  {
   "cell_type": "markdown",
   "metadata": {},
   "source": [
    "Let's plot the distributions of ECOSTRESS evapotranspiration for each of the tree health categories. The dead tree points match to a lower distribution of interpolated ECOSTRESS evapotranspiration estimates."
   ]
  },
  {
   "cell_type": "code",
   "execution_count": null,
   "metadata": {},
   "outputs": [],
   "source": [
    "fig = plt.figure(figsize=(FIG_WIDTH_IN, FIG_HEIGHT_IN))\n",
    "ax = sns.boxplot(\n",
    "    x=TNC_fall_2020.health, \n",
    "    y=TNC_fall_2020.ET,\n",
    "    palette=tree_palette\n",
    ")\n",
    "ax.set(ylabel=\"ECOSTRESS Evapotranspiration (mm/day)\", xlabel=\"In Situ Tree Health\")\n",
    "plt.title(\"Distribution of ECOSTRESS Evapotranspiration by Tree Health\")\n",
    "plt.show()\n",
    "plt.close(fig)"
   ]
  },
  {
   "cell_type": "markdown",
   "metadata": {},
   "source": [
    "Let's look at the distribution of ECOSTRESS surface temperature according to in situ tree health. The dead trees appear to have higher temperatures than other categories."
   ]
  },
  {
   "cell_type": "code",
   "execution_count": null,
   "metadata": {},
   "outputs": [],
   "source": [
    "fig = plt.figure(figsize=(FIG_WIDTH_IN, FIG_HEIGHT_IN))\n",
    "ax = sns.boxplot(\n",
    "    x=TNC_fall_2020.health, \n",
    "    y=TNC_fall_2020.ST,\n",
    "    palette=tree_palette\n",
    ")\n",
    "ax.set(ylabel=\"ECOSTRESS Surface Temperature (Celsius)\", xlabel=\"In Situ Tree Health\")\n",
    "plt.title(\"Distribution of ECOSTRESS Surface Temperature by Tree Health\")\n",
    "plt.show()\n",
    "plt.close(fig)"
   ]
  },
  {
   "cell_type": "markdown",
   "metadata": {},
   "source": [
    "Looking at this again with ECOSTRESS soil moisture, the dead trees appear to be associated with lower soil moisture estimates."
   ]
  },
  {
   "cell_type": "code",
   "execution_count": null,
   "metadata": {},
   "outputs": [],
   "source": [
    "fig = plt.figure(figsize=(FIG_WIDTH_IN, FIG_HEIGHT_IN))\n",
    "ax = sns.boxplot(\n",
    "    x=TNC_fall_2020.health, \n",
    "    y=TNC_fall_2020.SM,\n",
    "    palette=tree_palette\n",
    ")\n",
    "ax.set(ylabel=\"ECOSTRESS Soil Moisture ($m^3/m^3$)\", xlabel=\"In Situ Tree Health\")\n",
    "plt.title(\"Distribution of ECOSTRESS Soil Moisture by Tree Health\")\n",
    "plt.show()\n",
    "plt.close(fig)"
   ]
  },
  {
   "cell_type": "markdown",
   "metadata": {},
   "source": [
    "And the range of ECOSTRESS vegetation index at the dead trees appears to be lower than other categories."
   ]
  },
  {
   "cell_type": "code",
   "execution_count": null,
   "metadata": {},
   "outputs": [],
   "source": [
    "fig = plt.figure(figsize=(FIG_WIDTH_IN, FIG_HEIGHT_IN))\n",
    "ax = sns.boxplot(\n",
    "    x=TNC_fall_2020.health, \n",
    "    y=TNC_fall_2020.NDVI,\n",
    "    palette=tree_palette\n",
    ")\n",
    "ax.set(ylabel=\"ECOSTRESS Normalized Difference Vegetation Index\", xlabel=\"In Situ Tree Health\")\n",
    "plt.title(\"Distribution of ECOSTRESS Vegetation Index by Tree Health\")\n",
    "plt.show()\n",
    "plt.close(fig)"
   ]
  },
  {
   "cell_type": "markdown",
   "metadata": {},
   "source": [
    "Let's also approach this match-up the other way, by rasterizing the in situ point data. We'll spatially bin counts of the tree health categories within each 70 m ECOSTRESS pixel and calculate the ratio of these category counts to the total count of observations in each pixel. Let's start with rasterizing the total counts first."
   ]
  },
  {
   "cell_type": "code",
   "execution_count": null,
   "metadata": {},
   "outputs": [],
   "source": [
    "x_bins = np.sort(ET_subset.x)\n",
    "x_bins = np.append(x_bins, x_bins[-1] + (x_bins[-1] - x_bins[-2]))\n",
    "y_bins = np.sort(ET_subset.y)\n",
    "y_bins = np.insert(y_bins, 0, y_bins[0] + (y_bins[0] - y_bins[1]))\n",
    "\n",
    "x = TNC_fall_2020.geometry.apply(lambda point: point.x)\n",
    "y = TNC_fall_2020.geometry.apply(lambda point: point.y)\n",
    "\n",
    "counts, _, _, = np.histogram2d(\n",
    "    x=x,\n",
    "    y=y,\n",
    "    bins=(x_bins, y_bins)\n",
    ")\n",
    "\n",
    "counts = np.rot90(counts)\n",
    "counts = np.where(counts <= 0, np.nan, counts)\n",
    "\n",
    "counts_image = xarray.core.dataarray.DataArray(\n",
    "    data=counts,\n",
    "    coords=ET_subset.coords,\n",
    "    dims=ET_subset.dims,\n",
    "    attrs=ET_subset.attrs\n",
    ")\n",
    "\n",
    "counts_map = counts_image.rio.reproject(\"EPSG:3857\").hvplot.image(\n",
    "    cmap=\"jet\",\n",
    "    tiles=\"OSM\",\n",
    "    alpha=0.7,\n",
    "    width=FIG_WIDTH_PX,\n",
    "    height=FIG_HEIGHT_PX,\n",
    "    title=\"Total Count of Tree Observations within Each 70 m ECOSTRESS Pixel\"\n",
    ")"
   ]
  },
  {
   "cell_type": "markdown",
   "metadata": {},
   "source": [
    "Now we'll count the number of dead trees in each pixel and divide that by the total count to get a proportion of dead trees in each pixel. This proportion of dead trees appears to range from 5% to 25% across the rasterized image."
   ]
  },
  {
   "cell_type": "code",
   "execution_count": null,
   "metadata": {},
   "outputs": [],
   "source": [
    "dead_gdf = TNC_fall_2020[TNC_fall_2020.health == \"dead\"]\n",
    "x = dead_gdf.geometry.apply(lambda point: point.x)\n",
    "y = dead_gdf.geometry.apply(lambda point: point.y)\n",
    "\n",
    "counts, _, _, = np.histogram2d(\n",
    "    x=x,\n",
    "    y=y,\n",
    "    bins=(x_bins, y_bins)\n",
    ")\n",
    "\n",
    "counts = np.rot90(counts)\n",
    "counts = np.where(counts <= 0, np.nan, counts)\n",
    "\n",
    "dead_counts_image = xarray.core.dataarray.DataArray(\n",
    "    data=counts,\n",
    "    coords=ET_subset.coords,\n",
    "    dims=ET_subset.dims,\n",
    "    attrs=ET_subset.attrs\n",
    ")\n",
    "\n",
    "dead_counts_image.rio.reproject(\"EPSG:3857\").hvplot.image(cmap=\"jet\", tiles=\"OSM\", alpha=0.7)\n",
    "dead_proportion_image = dead_counts_image / counts_image\n",
    "dead_proportion_image.attrs = ET_subset.attrs\n",
    "\n",
    "dead_proportion_map = dead_proportion_image.rio.reproject(\"EPSG:3857\").hvplot.image(\n",
    "    cmap=\"jet\",\n",
    "    tiles=\"OSM\",\n",
    "    alpha=0.7,\n",
    "    width=FIG_WIDTH_PX,\n",
    "    height=FIG_HEIGHT_PX\n",
    ")\n",
    "\n",
    "dead_proportion_map"
   ]
  },
  {
   "cell_type": "markdown",
   "metadata": {},
   "source": [
    "We'll do this same rasterization for good trees."
   ]
  },
  {
   "cell_type": "code",
   "execution_count": null,
   "metadata": {},
   "outputs": [],
   "source": [
    "good_gdf = TNC_fall_2020[TNC_fall_2020.health == \"good\"]\n",
    "x = good_gdf.geometry.apply(lambda point: point.x)\n",
    "y = good_gdf.geometry.apply(lambda point: point.y)\n",
    "\n",
    "counts, _, _, = np.histogram2d(\n",
    "    x=x,\n",
    "    y=y,\n",
    "    bins=(x_bins, y_bins)\n",
    ")\n",
    "\n",
    "counts = np.rot90(counts)\n",
    "counts = np.where(counts <= 0, np.nan, counts)\n",
    "\n",
    "good_counts_image = xarray.core.dataarray.DataArray(\n",
    "    data=counts,\n",
    "    coords=ET_subset.coords,\n",
    "    dims=ET_subset.dims,\n",
    "    attrs=ET_subset.attrs\n",
    ")\n",
    "\n",
    "good_counts_image.rio.reproject(\"EPSG:3857\").hvplot.image(cmap=\"jet\", tiles=\"OSM\", alpha=0.7)\n",
    "good_proportion_image = good_counts_image / counts_image\n",
    "good_proportion_image.attrs = ET_subset.attrs\n",
    "\n",
    "good_proportion_map = good_proportion_image.rio.reproject(\"EPSG:3857\").hvplot.image(\n",
    "    cmap=\"jet\", \n",
    "    tiles=\"OSM\", \n",
    "    alpha=0.7,\n",
    "    width=FIG_WIDTH_PX,\n",
    "    height=FIG_HEIGHT_PX\n",
    ")\n",
    "\n",
    "good_proportion_map"
   ]
  },
  {
   "cell_type": "code",
   "execution_count": null,
   "metadata": {},
   "outputs": [],
   "source": [
    "poor_gdf = TNC_fall_2020[TNC_fall_2020.health == \"poor\"]\n",
    "x = poor_gdf.geometry.apply(lambda point: point.x)\n",
    "y = poor_gdf.geometry.apply(lambda point: point.y)\n",
    "\n",
    "counts, _, _, = np.histogram2d(\n",
    "    x=x,\n",
    "    y=y,\n",
    "    bins=(x_bins, y_bins)\n",
    ")\n",
    "\n",
    "counts = np.rot90(counts)\n",
    "counts = np.where(counts <= 0, np.nan, counts)\n",
    "\n",
    "poor_counts_image = xarray.core.dataarray.DataArray(\n",
    "    data=counts,\n",
    "    coords=ET_subset.coords,\n",
    "    dims=ET_subset.dims,\n",
    "    attrs=ET_subset.attrs\n",
    ")\n",
    "\n",
    "poor_counts_image.rio.reproject(\"EPSG:3857\").hvplot.image(cmap=\"jet\", tiles=\"OSM\", alpha=0.7)\n",
    "poor_proportion_image = poor_counts_image / counts_image\n",
    "poor_proportion_image.attrs = ET_subset.attrs\n",
    "\n",
    "poor_proportion_map = poor_proportion_image.rio.reproject(\"EPSG:3857\").hvplot.image(\n",
    "    cmap=\"jet\", \n",
    "    tiles=\"OSM\", \n",
    "    alpha=0.7,\n",
    "    width=FIG_WIDTH_PX,\n",
    "    height=FIG_HEIGHT_PX\n",
    ")\n",
    "\n",
    "poor_proportion_map"
   ]
  },
  {
   "cell_type": "markdown",
   "metadata": {},
   "source": [
    "Now let's bring it all together by collapsing each of these images into columns of a table so we can analyze these matching data points."
   ]
  },
  {
   "cell_type": "code",
   "execution_count": null,
   "metadata": {},
   "outputs": [],
   "source": [
    "proportion_table = pd.DataFrame({\n",
    "    \"dead\": dead_proportion_image.values.ravel(), \n",
    "    \"poor\": poor_proportion_image.values.ravel(), \n",
    "    \"good\": good_proportion_image.values.ravel(), \n",
    "    \"ET\": ET_subset.values.ravel(),\n",
    "    \"ST\": ST_subset.values.ravel(),\n",
    "    \"SM\": SM_subset.values.ravel(),\n",
    "    \"NDVI\": NDVI_subset.values.ravel()\n",
    "}).dropna()\n",
    "\n",
    "proportion_table = proportion_table[np.abs(zscore(proportion_table.ET)) < 2]\n",
    "proportion_table.head()"
   ]
  },
  {
   "cell_type": "markdown",
   "metadata": {},
   "source": [
    "Let's investigate the correlations between these variables with a correlogram. Focusing on dead trees, it seems that there are rather weak relationships between the dead tree observations and the evapotranspiration input variables, but there is an inverse correlation between the dead tree observations and the evapotranspiration estimate itself."
   ]
  },
  {
   "cell_type": "code",
   "execution_count": null,
   "metadata": {},
   "outputs": [],
   "source": [
    "fig = plt.figure(figsize=(FIG_WIDTH_IN, FIG_HEIGHT_IN))\n",
    "ax = sns.heatmap(proportion_table.corr(), annot=True)\n",
    "plt.title(\"Correlogram of ECOSTRESS Products to Tree Health Proportions\")\n",
    "plt.show()\n",
    "plt.close(fig)"
   ]
  },
  {
   "cell_type": "markdown",
   "metadata": {},
   "source": [
    "We can break down these correlation coefficients in to individual scatterplots to better see how each pair of variables line up together."
   ]
  },
  {
   "cell_type": "code",
   "execution_count": null,
   "metadata": {},
   "outputs": [],
   "source": [
    "fig = plt.figure()\n",
    "ax = sns.pairplot(proportion_table)\n",
    "plt.title(\"Pair-Plot of ECOSTRESS Products to Tree Health Proportions\")\n",
    "plt.show()\n",
    "plt.close(fig)"
   ]
  },
  {
   "cell_type": "markdown",
   "metadata": {},
   "source": [
    "Let's focus on the strongest relationship involving dead trees and ECOSTRESS evapotranspiration. We can visualize this inverse correlation with a scatterplot and decreasing trendline."
   ]
  },
  {
   "cell_type": "code",
   "execution_count": null,
   "metadata": {},
   "outputs": [],
   "source": [
    "fig = plt.figure(figsize=(FIG_WIDTH_IN, FIG_HEIGHT_IN))\n",
    "ax = sns.regplot(x=proportion_table.dead, y=proportion_table.ET)\n",
    "ax.set(ylabel=\"ECOSTRESS Evapotranspiration (mm/day)\", xlabel=\"Proportion of Dead Tree Observations\")\n",
    "plt.title(\"Scatterplot of ECOSTRESS Evapotranspiration to Proportion of Dead Tree Observations\")\n",
    "plt.show()\n",
    "plt.close(fig)"
   ]
  },
  {
   "cell_type": "code",
   "execution_count": null,
   "metadata": {},
   "outputs": [],
   "source": []
  }
 ],
 "metadata": {
  "interpreter": {
   "hash": "993776a9b1570c5b43064bf1aadde3ce37cce3f6e1a0a2f7a94dccbd40e8d9ac"
  },
  "kernelspec": {
   "display_name": "py39",
   "language": "python",
   "name": "py39"
  },
  "language_info": {
   "codemirror_mode": {
    "name": "ipython",
    "version": 3
   },
   "file_extension": ".py",
   "mimetype": "text/x-python",
   "name": "python",
   "nbconvert_exporter": "python",
   "pygments_lexer": "ipython3",
   "version": "3.9.12"
  }
 },
 "nbformat": 4,
 "nbformat_minor": 4
}
