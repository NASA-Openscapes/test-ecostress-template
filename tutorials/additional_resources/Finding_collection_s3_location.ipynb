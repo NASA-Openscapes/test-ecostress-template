{
 "cells": [
  {
   "cell_type": "markdown",
   "id": "2578f4b8-156c-4c67-ac60-a0bb5b9f56b7",
   "metadata": {},
   "source": [
    "# Location of data in the PO.DAAC S3 Archive\n",
    "We need to determine the path for our products of interest. We can do this through several mechanisms.\n",
    "\n",
    "## Finding S3 Location information from the PO.DAAC Portal\n",
    "The easiest of which is through the PO.DAAC Cloud Dataset Listing page: https://podaac.jpl.nasa.gov/cloud-datasets\n",
    "\n",
    "![S3 Data Locations from Portal](img/S3_data_locations_from_portal.png)\n",
    "\n",
    "For each dataset, the 'Data Access' tab will have various information, but will always contain the S3 paths listed specifically. Data files will *always* be found under the 'protected' bucket.\n",
    "\n",
    "## Finding S3 Location from Earthdata Search\n",
    "\n",
    "From the Earthdata Search Client (search.earthdata.nasa.gov), collection level information can be found by clicking the 'i' on a collection search result. An example of this is seen below:\n",
    "\n",
    "![S3 Data Locations from Search 1](img/S3_data_locations_from_search_1.png)\n",
    "\n",
    "\n",
    "Once on the collection inforamtion screen, the S3 bucket locations can be found by scrolling to the bottom of the information panel. The SWOT_SIMULATED_L2_KARIN_SSH_GLORYS_SCIENCE_V1 example is shown below.\n",
    "\n",
    "![S3 Data Locations from Search 2](img/S3_data_locations_from_search_2.png)\n",
    "\n",
    "\n",
    "\n",
    "## Finding S3 Location from CMR\n",
    "\n",
    "One can query the collection identifier to get information from CMR:\n",
    "\n",
    "```\n",
    "https://cmr.earthdata.nasa.gov/search/concepts/C2152045877-POCLOUD.umm_json\n",
    "```\n",
    "\n",
    "The identifier is found on the PO.DAAC [Cloud Data Set Listing](https://podaac.jpl.nasa.gov/cloud-datasets) page entries, called 'Collection Concept ID'\n",
    "\n",
    "Results returned will look like the following:\n",
    "\n",
    "```json\n",
    "{\n",
    "    ...\n",
    "    \"DirectDistributionInformation\": {\n",
    "        \"Region\": \"us-west-2\",\n",
    "        \"S3BucketAndObjectPrefixNames\": [\n",
    "            \"podaac-ops-cumulus-protected/SWOT_SIMULATED_L2_KARIN_SSH_GLORYS_SCIENCE_V1/\",\n",
    "            \"podaac-ops-cumulus-public/SWOT_SIMULATED_L2_KARIN_SSH_GLORYS_SCIENCE_V1/\"\n",
    "        ],\n",
    "        \"S3CredentialsAPIEndpoint\": \"https://archive.podaac.earthdata.nasa.gov/s3credentials\",\n",
    "        \"S3CredentialsAPIDocumentationURL\": \"https://archive.podaac.earthdata.nasa.gov/s3credentialsREADME\"\n",
    "    },\n",
    "    ...\n",
    "}\n",
    "```"
   ]
  },
  {
   "cell_type": "code",
   "execution_count": null,
   "id": "e3b5fb6d-fa9b-45c5-ab93-f2ac7bffdf62",
   "metadata": {},
   "outputs": [],
   "source": []
  }
 ],
 "metadata": {
  "kernelspec": {
   "display_name": "Python 3 (ipykernel)",
   "language": "python",
   "name": "python3"
  },
  "language_info": {
   "codemirror_mode": {
    "name": "ipython",
    "version": 3
   },
   "file_extension": ".py",
   "mimetype": "text/x-python",
   "name": "python",
   "nbconvert_exporter": "python",
   "pygments_lexer": "ipython3",
   "version": "3.9.10"
  }
 },
 "nbformat": 4,
 "nbformat_minor": 5
}
