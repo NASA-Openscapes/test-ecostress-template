{
 "cells": [
  {
   "cell_type": "markdown",
   "id": "ef03c624-93e5-4fe3-920f-3d8e666daf52",
   "metadata": {
    "tags": []
   },
   "source": [
    "# Data discovery with NASA's CMR\n",
    "\n",
    "## Summary\n",
    "\n",
    "In this notebook, we will walk through how to search for Earthdata data collections and granules. Along the way we will explore the available search parameters, information return, and specific contrains when using the CMR API. Our object is to identify assets to access that we would downloaded, or perform S3 direct access, within an analysis workflow \n",
    "\n",
    "We will be querying CMR for [Harmonized Landsat Sentinel-2 (HLS)]() collections/granules to identify assets we would downloaded, or perform S3 direct access, within an analysis workflow\n",
    "\n",
    "## Requirements\n",
    "\n",
    "### 1. Earthdata Login\n",
    "\n",
    "An Earthdata Login account is required to access data, as well as discover restricted data, from the NASA Earthdata system. Thus, to access NASA data, you need Earthdata Login. Please visit <https://urs.earthdata.nasa.gov> to register and manage your Earthdata Login account. This account is free to create and only takes a moment to set up.\n",
    "\n",
    "## Learning Objectives\n",
    "\n",
    "- understand what CMR/CMR API is and what CMR/CMR API can be used for \n",
    "- how to use the `requests` package to search data collections and granules  \n",
    "- how to parse the results of these searches.\n",
    "\n",
    "## What is CMR\n",
    "CMR is the Common Metadata Repository.  It catalogs all data for NASA's Earth Observing System Data and Information System (EOSDIS).  It is the backend of [Earthdata Search](https://search.earthdata.nasa.gov/search), the GUI search interface you are probably familiar with.  More information about CMR can be found [here](https://earthdata.nasa.gov/eosdis/science-system-description/eosdis-components/cmr).\n",
    "\n",
    "Unfortunately, the GUI for Earthdata Search is not accessible from a cloud instance - at least not without some work.  Earthdata Search is also not immediately reproducible.  What I mean by that is if you create a search using the GUI you would have to note the search criteria (date range, search area, collection name, etc), take a screenshot, copy the search url, or save the list of data granules returned by the search, in order to recreate the search.  This information would have to be re-entered each time you or someone else wanted to do the search.  You could make typos or other mistakes.  A cleaner, reproducible solution is to search CMR programmatically using the CMR API.\n",
    "\n",
    "## What is the CMR API\n",
    "API stands for Application Programming Interface.  It allows applications (software, services, etc) to send information to each other.  A helpful analogy is a waiter in a restaurant.  The waiter takes your drink or food order that you select from the menu, often translated into short-hand, to the bar or kitchen, and then returns (hopefully) with what you ordered when it is ready.\n",
    "\n",
    "The CMR API accepts search terms such as collection name, keywords, datetime range, and location, queries the CMR database and returns the results."
   ]
  },
  {
   "cell_type": "markdown",
   "id": "4c0e6feb-7e22-49e8-ad2f-14341e025608",
   "metadata": {},
   "source": [
    "---"
   ]
  },
  {
   "cell_type": "markdown",
   "id": "instant-parliament",
   "metadata": {},
   "source": [
    "## Getting Started: How to search CMR from Python\n",
    "The first step is to import python packages.  We will use:  \n",
    "- `requests` This package does most of the work for us accessing the CMR API using HTTP methods. \n",
    "- `pprint` to _pretty print_ the results of the search.  \n",
    "\n",
    "A more in-depth tutorial on `requests` is [here](https://realpython.com/python-requests/)"
   ]
  },
  {
   "cell_type": "code",
   "execution_count": 1,
   "id": "prime-hierarchy",
   "metadata": {},
   "outputs": [],
   "source": [
    "import requests\n",
    "from pprint import pprint"
   ]
  },
  {
   "cell_type": "markdown",
   "id": "authorized-conditioning",
   "metadata": {},
   "source": [
    "To conduct a search using the CMR API, `requests` needs the url for the root CMR search endpoint. We'll assign this url to a python variable as a _string_."
   ]
  },
  {
   "cell_type": "code",
   "execution_count": 2,
   "id": "existing-concert",
   "metadata": {},
   "outputs": [],
   "source": [
    "CMR_OPS = 'https://cmr.earthdata.nasa.gov/search'"
   ]
  },
  {
   "cell_type": "markdown",
   "id": "sorted-possession",
   "metadata": {},
   "source": [
    "CMR allows search by __collections__, which are datasets, and __granules__, which are files that contain data. Many of the same search parameters can be used for collections and granules but the type of results returned differ. Search parameters can be found in the [API Documentation](https://cmr.earthdata.nasa.gov/search/site/docs/search/api.html).  \n",
    "\n",
    "Whether we search __collections__ or __granules__ is distinguished by adding `\"collections\"` or `\"granules\"` to the end of the CMR endpoint URL.  \n",
    "\n",
    "We are going to search collections first, so we add `\"collections\"` to the URL. We are using a `python` format string in the examples below."
   ]
  },
  {
   "cell_type": "code",
   "execution_count": 3,
   "id": "floating-defensive",
   "metadata": {},
   "outputs": [],
   "source": [
    "url = f'{CMR_OPS}/{\"collections\"}'"
   ]
  },
  {
   "cell_type": "markdown",
   "id": "racial-fifteen",
   "metadata": {},
   "source": [
    "In this first example, I want to retrieve a list of collections available from the Earthdata Cloud using the `cloud_hosted` parameter in the request.  \n",
    "\n",
    "We want to get the content in `json` (pronounced \"jason\") format, so I pass a dictionary to the header keyword argument to say that I want results returned as `json`.\n",
    "\n",
    "The `.get()` method is used to send this information to the CMR API. `get()` calls the HTTP method __GET__. "
   ]
  },
  {
   "cell_type": "code",
   "execution_count": 4,
   "id": "suited-wrestling",
   "metadata": {},
   "outputs": [],
   "source": [
    "response = requests.get(url,\n",
    "                        params={\n",
    "                            'cloud_hosted': 'True',\n",
    "                            'has_granules': 'True',\n",
    "                        },\n",
    "                        headers={\n",
    "                            'Accept': 'application/json',\n",
    "                        }\n",
    "                       )"
   ]
  },
  {
   "cell_type": "markdown",
   "id": "monetary-harbor",
   "metadata": {},
   "source": [
    "The request returns a `Response` object.    \n",
    "\n",
    "To check that our request was successful we can print the `response` variable we saved the request to."
   ]
  },
  {
   "cell_type": "code",
   "execution_count": 5,
   "id": "ongoing-progressive",
   "metadata": {},
   "outputs": [
    {
     "data": {
      "text/plain": [
       "<Response [200]>"
      ]
     },
     "execution_count": 5,
     "metadata": {},
     "output_type": "execute_result"
    }
   ],
   "source": [
    "response"
   ]
  },
  {
   "cell_type": "markdown",
   "id": "linear-collins",
   "metadata": {},
   "source": [
    "A __200__ response is what we want. This means that the requests was successful. For more information on HTTP status codes see <https://en.wikipedia.org/wiki/List_of_HTTP_status_codes>\n",
    "\n",
    "A more explict way to check the status code is to use the `status_code` attribute. Both methods return a HTTP status code."
   ]
  },
  {
   "cell_type": "code",
   "execution_count": 6,
   "id": "printable-determination",
   "metadata": {},
   "outputs": [
    {
     "data": {
      "text/plain": [
       "200"
      ]
     },
     "execution_count": 6,
     "metadata": {},
     "output_type": "execute_result"
    }
   ],
   "source": [
    "response.status_code"
   ]
  },
  {
   "cell_type": "markdown",
   "id": "australian-resolution",
   "metadata": {},
   "source": [
    "The response from `requests.get` returns the results of the search and metadata about those results in the `headers`.  \n",
    "\n",
    "More information about the `response` object can be found by typing `help(response)`.\n",
    "\n",
    "`headers` contains useful information in a case-insensitive dictionary. We requested (above) that the information be return in json which means the object return is a dictionary in our Python environment. We'll iterate through the returned dictionary, looping throught each field (`k`) and its associated value (`v`). For more on interating through dictionary object click [here](https://realpython.com/iterate-through-dictionary-python/)."
   ]
  },
  {
   "cell_type": "code",
   "execution_count": 7,
   "id": "driving-vintage",
   "metadata": {},
   "outputs": [
    {
     "name": "stdout",
     "output_type": "stream",
     "text": [
      "Content-Type: application/json;charset=utf-8\n",
      "Content-Length: 4517\n",
      "Connection: keep-alive\n",
      "Date: Mon, 04 Apr 2022 21:04:20 GMT\n",
      "X-Frame-Options: SAMEORIGIN\n",
      "Access-Control-Allow-Origin: *\n",
      "X-XSS-Protection: 1; mode=block\n",
      "CMR-Request-Id: 6b187d39-c5b8-40f7-9b06-9228ea3c33b2\n",
      "Strict-Transport-Security: max-age=31536000\n",
      "CMR-Search-After: [0.0,18400.0,\"SENTINEL-1A_OCN\",\"1\",1214472977,1250]\n",
      "CMR-Hits: 1169\n",
      "Access-Control-Expose-Headers: CMR-Hits, CMR-Request-Id, X-Request-Id, CMR-Scroll-Id, CMR-Search-After, CMR-Timed-Out, CMR-Shapefile-Original-Point-Count, CMR-Shapefile-Simplified-Point-Count\n",
      "X-Content-Type-Options: nosniff\n",
      "CMR-Took: 303\n",
      "X-Request-Id: zbAtpLRlRe2kPJi8PNdomG7u6C22HPSRbAy5E2m23uYIKga7V8DEfg==\n",
      "Vary: Accept-Encoding, User-Agent\n",
      "Content-Encoding: gzip\n",
      "Server: ServerTokens ProductOnly\n",
      "X-Cache: Miss from cloudfront\n",
      "Via: 1.1 e9c8cd6cad69627cb7c9d88123e6e2cc.cloudfront.net (CloudFront)\n",
      "X-Amz-Cf-Pop: HIO50-C2\n",
      "X-Amz-Cf-Id: zbAtpLRlRe2kPJi8PNdomG7u6C22HPSRbAy5E2m23uYIKga7V8DEfg==\n"
     ]
    }
   ],
   "source": [
    "for k, v in response.headers.items():\n",
    "    print(f'{k}: {v}')"
   ]
  },
  {
   "cell_type": "markdown",
   "id": "durable-ceramic",
   "metadata": {},
   "source": [
    "Each item in the dictionary can be accessed in the normal way you access a `python` dictionary but the keys uniquely case-insensitive. Let's take a look at the commonly used `CMR-Hits` key.\n",
    "\n"
   ]
  },
  {
   "cell_type": "code",
   "execution_count": 8,
   "id": "entertaining-blend",
   "metadata": {},
   "outputs": [
    {
     "data": {
      "text/plain": [
       "'1169'"
      ]
     },
     "execution_count": 8,
     "metadata": {},
     "output_type": "execute_result"
    }
   ],
   "source": [
    "response.headers['CMR-Hits']"
   ]
  },
  {
   "cell_type": "markdown",
   "id": "governmental-disclosure",
   "metadata": {},
   "source": [
    "Note that \"cmr-hits\" works as well!"
   ]
  },
  {
   "cell_type": "code",
   "execution_count": 9,
   "id": "unsigned-january",
   "metadata": {},
   "outputs": [
    {
     "data": {
      "text/plain": [
       "'1169'"
      ]
     },
     "execution_count": 9,
     "metadata": {},
     "output_type": "execute_result"
    }
   ],
   "source": [
    "response.headers['cmr-hits']"
   ]
  },
  {
   "cell_type": "markdown",
   "id": "eleven-mother",
   "metadata": {},
   "source": [
    "In some situations the response to your query can return a very large number of result, some of which may not be relevant. We can add additional [query parameters](https://cmr.earthdata.nasa.gov/search/site/docs/search/api.html) to restrict the information returned. We're going to restrict the search by the `provider` parameter.\n",
    "\n",
    "You can modify the code below to explore all Earthdata data products hosted by the various providers. When searching by provider, use _Cloud Provider_ to search for cloud-hosted datasets and _On-Premises Provider_ to search for datasets archived at the DAACs. A partial list of providers is given below.\n",
    "\n",
    "DAAC      | Short Name                              | Cloud Provider | On-Premises Provider  \n",
    "----------|-----------------------------------------|----------------|----------------------  \n",
    "NSIDC     | National Snow and Ice Data Center       | NSIDC_CPRD     | NSIDC_ECS  \n",
    "GHRC DAAC | Global Hydrometeorology Resource Center | GHRC_DAAC      | GHRC_DAAC  \n",
    "PO DAAC   | Physical Oceanography Distributed Active Archive Center | POCLOUD | PODAAC  \n",
    "ASF       | Alaska Satellite Facility | ASF | ASF  \n",
    "ORNL DAAC | Oak Ridge National Laboratory | ORNL_CLOUD | ORNL_DAAC  \n",
    "LP DAAC   | Land Processes Distributed Active Archive Center | LPCLOUD | LPDAAC_ECS\n",
    "GES DISC  | NASA Goddard Earth Sciences (GES) Data and Information Services Center (DISC) | GES_DISC | GES_DISC\n",
    "OB DAAC   | NASA's Ocean Biology Distributed Active Archive Center |   | OB_DAAC\n",
    "SEDAC     | NASA's Socioeconomic Data and Applications Center |   | SEDAC"
   ]
  },
  {
   "cell_type": "markdown",
   "id": "5842dc3b-639a-4cac-a838-6413ee1b4bb6",
   "metadata": {},
   "source": [
    "We'll assign the provider to a variable as a _string_ and insert the variable into the parameter argument in the request."
   ]
  },
  {
   "cell_type": "code",
   "execution_count": 10,
   "id": "77daf931-54d6-40b0-823b-a36c352fd06c",
   "metadata": {},
   "outputs": [],
   "source": [
    "provider = 'LPCLOUD'"
   ]
  },
  {
   "cell_type": "code",
   "execution_count": 11,
   "id": "economic-airfare",
   "metadata": {},
   "outputs": [
    {
     "data": {
      "text/plain": [
       "<Response [200]>"
      ]
     },
     "execution_count": 11,
     "metadata": {},
     "output_type": "execute_result"
    }
   ],
   "source": [
    "response = requests.get(url,\n",
    "                        params={\n",
    "                            'cloud_hosted': 'True',\n",
    "                            'has_granules': 'True',\n",
    "                            'provider': provider,\n",
    "                        },\n",
    "                        headers={\n",
    "                            'Accept': 'application/json'\n",
    "                        }\n",
    "                       )\n",
    "response"
   ]
  },
  {
   "cell_type": "code",
   "execution_count": 12,
   "id": "imperial-congo",
   "metadata": {},
   "outputs": [
    {
     "data": {
      "text/plain": [
       "'3'"
      ]
     },
     "execution_count": 12,
     "metadata": {},
     "output_type": "execute_result"
    }
   ],
   "source": [
    "response.headers['cmr-hits']"
   ]
  },
  {
   "cell_type": "markdown",
   "id": "peripheral-static",
   "metadata": {},
   "source": [
    "Search results are contained in the __content__ part of the Response object. However, `response.content` returns information in bytes."
   ]
  },
  {
   "cell_type": "code",
   "execution_count": 13,
   "id": "hawaiian-honolulu",
   "metadata": {
    "tags": []
   },
   "outputs": [
    {
     "data": {
      "text/plain": [
       "b'{\"feed\":{\"updated\":\"2022-04-04T21:04:21.524Z\",\"id\":\"https://cmr.earthdata.nasa.gov:443/search/collections.json?cloud_hosted=True&has_granules=True&provider=LPCLOUD\",\"title\":\"ECHO dataset metadata\",\"entry\":[{\"processing_level_id\":\"3\",\"boxes\":[\"-90 -180 90 180\"],\"time_start\":\"2013-04-11T00:00:00.000Z\",\"version_id\":\"2.0\",\"updated\":\"2015-12-03T10:57:07.000Z\",\"dataset_id\":\"HLS Landsat Operational Land Imager Surface Reflectance and TOA Brightness Daily Global 30m v2.0\",\"has_spatial_subsetting\":false,\"has_transforms\":false,\"has_variables\":false,\"data_center\":\"LPCLOUD\",\"short_name\":\"HLSL30\",\"organizations\":[\"LP DAAC\",\"NASA/IMPACT\"],\"title\":\"HLS Landsat Operational Land Imager Surface Reflectance and TOA Brightness Daily Global 30m v2.0\",\"coordinate_system\":\"CARTESIAN\",\"summary\":\"The Harmonized Landsat and Sentinel-2 (HLS) project provides consistent surface reflectance (SR) and top of atmosphere (TOA) brightness data from the Operational Land Imager (OLI) aboard the joint NASA/USGS Landsat 8 satellite and the Multi-Spectral Instrument (MSI) aboard Europe\\xe2\\x80\\x99s Copernicus Sentinel-2A and Sentinel-2B satellites. The combined measurement enables global observations of the land every 2\\xe2\\x80\\x933 days at 30-meter (m) spatial resolution. The HLS project uses a set of algorithms to obtain seamless products from OLI and MSI that include atmospheric correction, cloud and cloud-shadow masking, spatial co-registration and common gridding, illumination and view angle normalization, and spectral bandpass adjustment.\\\\r\\\\n\\\\r\\\\nThe HLSL30 product provides 30-m Nadir Bidirectional Reflectance Distribution Function (BRDF)-Adjusted Reflectance (NBAR) and is derived from Landsat 8 OLI data products. The HLSS30 and HLSL30 products are gridded to the same resolution and Military Grid Reference System ([MGRS](https://hls.gsfc.nasa.gov/products-description/tiling-system/)) tiling system, and thus are \\xe2\\x80\\x9cstackable\\xe2\\x80\\x9d for time series analysis.\\\\r\\\\n\\\\r\\\\nThe HLSL30 product is provided in Cloud Optimized GeoTIFF (COG) format, and each band is distributed as a separate file. There are 11 bands included in the HLSL30 product along with one quality assessment (QA) band and four angle bands. See the User Guide for a more detailed description of the individual bands provided in the HLSL30 product.\",\"service_features\":{\"opendap\":{\"has_formats\":false,\"has_variables\":false,\"has_transforms\":false,\"has_spatial_subsetting\":false,\"has_temporal_subsetting\":false},\"esi\":{\"has_formats\":false,\"has_variables\":false,\"has_transforms\":false,\"has_spatial_subsetting\":false,\"has_temporal_subsetting\":false},\"harmony\":{\"has_formats\":false,\"has_variables\":false,\"has_transforms\":false,\"has_spatial_subsetting\":false,\"has_temporal_subsetting\":false}},\"orbit_parameters\":{},\"id\":\"C2021957657-LPCLOUD\",\"has_formats\":false,\"consortiums\":[\"GEOSS\",\"EOSDIS\"],\"original_format\":\"UMM_JSON\",\"collection_data_type\":\"OTHER\",\"archive_center\":\"LP DAAC\",\"has_temporal_subsetting\":false,\"browse_flag\":true,\"platforms\":[\"LANDSAT-8\"],\"online_access_flag\":true,\"links\":[{\"rel\":\"http://esipfed.org/ns/fedsearch/1.1/data#\",\"hreflang\":\"en-US\",\"href\":\"https://search.earthdata.nasa.gov/search?q=C2021957657-LPCLOUD\"},{\"rel\":\"http://esipfed.org/ns/fedsearch/1.1/metadata#\",\"hreflang\":\"en-US\",\"href\":\"https://doi.org/10.5067/HLS/HLSL30.002\"},{\"rel\":\"http://esipfed.org/ns/fedsearch/1.1/metadata#\",\"hreflang\":\"en-US\",\"href\":\"https://lpdaac.usgs.gov/\"},{\"rel\":\"http://esipfed.org/ns/fedsearch/1.1/documentation#\",\"hreflang\":\"en-US\",\"href\":\"https://lpdaac.usgs.gov/documents/1118/HLS_User_Guide_V2.pdf\"},{\"rel\":\"http://esipfed.org/ns/fedsearch/1.1/documentation#\",\"hreflang\":\"en-US\",\"href\":\"https://lpdaac.usgs.gov/documents/769/HLS_ATBD_V15_provisional.pdf\"},{\"rel\":\"http://esipfed.org/ns/fedsearch/1.1/documentation#\",\"hreflang\":\"en-US\",\"href\":\"https://lpdaac.usgs.gov/documents/768/HLS_Quick_Guide_v011.pdf\"},{\"rel\":\"http://esipfed.org/ns/fedsearch/1.1/documentation#\",\"hreflang\":\"en-US\",\"href\":\"https://git.earthdata.nasa.gov/projects/LPDUR/repos/hls-tutorial/browse\"},{\"rel\":\"http://esipfed.org/ns/fedsearch/1.1/documentation#\",\"hreflang\":\"en-US\",\"href\":\"https://git.earthdata.nasa.gov/projects/LPDUR/repos/hls-super-script/browse\"},{\"rel\":\"http://esipfed.org/ns/fedsearch/1.1/browse#\",\"hreflang\":\"en-US\",\"href\":\"https://cmr.earthdata.nasa.gov/browse-scaler/browse_images/granules/G2095313663-LPCLOUD?h=512&w=512\"},{\"rel\":\"http://esipfed.org/ns/fedsearch/1.1/documentation#\",\"hreflang\":\"en-US\",\"href\":\"https://git.earthdata.nasa.gov/projects/LPDUR/repos/hls-bulk-download/browse\"},{\"rel\":\"http://esipfed.org/ns/fedsearch/1.1/documentation#\",\"hreflang\":\"en-US\",\"href\":\"https://lpdaac.usgs.gov/resources/e-learning/getting-started-with-cloud-native-harmonized-landsat-sentinel-2-hls-data-in-r/\"}]},{\"processing_level_id\":\"3\",\"boxes\":[\"-90 -180 90 180\"],\"time_start\":\"2015-11-28T00:00:00.000Z\",\"version_id\":\"2.0\",\"updated\":\"2020-03-04T07:19:53.396Z\",\"dataset_id\":\"HLS Sentinel-2 Multi-spectral Instrument Surface Reflectance Daily Global 30m v2.0\",\"has_spatial_subsetting\":false,\"has_transforms\":false,\"has_variables\":false,\"data_center\":\"LPCLOUD\",\"short_name\":\"HLSS30\",\"organizations\":[\"LP DAAC\",\"NASA/IMPACT\"],\"title\":\"HLS Sentinel-2 Multi-spectral Instrument Surface Reflectance Daily Global 30m v2.0\",\"coordinate_system\":\"CARTESIAN\",\"summary\":\"The Harmonized Landsat and Sentinel-2 (HLS) project provides consistent surface reflectance data from the Operational Land Imager (OLI) aboard the joint NASA/USGS Landsat 8 satellite and the Multi-Spectral Instrument (MSI) aboard Europe\\xe2\\x80\\x99s Copernicus Sentinel-2A and Sentinel-2B satellites. The combined measurement enables global observations of the land every 2\\xe2\\x80\\x933 days at 30-meter (m) spatial resolution. The HLS project uses a set of algorithms to obtain seamless products from OLI and MSI that include atmospheric correction, cloud and cloud-shadow masking, spatial co-registration and common gridding, illumination and view angle normalization, and spectral bandpass adjustment. \\\\r\\\\n\\\\r\\\\nThe HLSS30 product provides 30-m Nadir Bidirectional Reflectance Distribution Function (BRDF)-Adjusted Reflectance (NBAR) and is derived from Sentinel-2A and Sentinel-2B MSI data products. The HLSS30 and HLSL30 products are gridded to the same resolution and Military Grid Reference System (MGRS) (https://hls.gsfc.nasa.gov/products-description/tiling-system/) tiling system, and thus are \\xe2\\x80\\x9cstackable\\xe2\\x80\\x9d for time series analysis.\\\\r\\\\n\\\\r\\\\nThe HLSS30 product is provided in Cloud Optimized GeoTIFF (COG) format, and each band is distributed as a separate COG. There are 13 bands included in the HLSS30 product along with four angle bands and a quality assessment (QA) band. See the User Guide for a more detailed description of the individual bands provided in the HLSS30 product.\\\\r\\\\n\",\"service_features\":{\"opendap\":{\"has_formats\":false,\"has_variables\":false,\"has_transforms\":false,\"has_spatial_subsetting\":false,\"has_temporal_subsetting\":false},\"esi\":{\"has_formats\":false,\"has_variables\":false,\"has_transforms\":false,\"has_spatial_subsetting\":false,\"has_temporal_subsetting\":false},\"harmony\":{\"has_formats\":false,\"has_variables\":false,\"has_transforms\":false,\"has_spatial_subsetting\":false,\"has_temporal_subsetting\":false}},\"orbit_parameters\":{},\"id\":\"C2021957295-LPCLOUD\",\"has_formats\":false,\"consortiums\":[\"GEOSS\",\"EOSDIS\"],\"original_format\":\"UMM_JSON\",\"collection_data_type\":\"OTHER\",\"archive_center\":\"LP DAAC\",\"has_temporal_subsetting\":false,\"browse_flag\":true,\"platforms\":[\"Sentinel-2A\",\"Sentinel-2B\"],\"online_access_flag\":true,\"links\":[{\"rel\":\"http://esipfed.org/ns/fedsearch/1.1/data#\",\"hreflang\":\"en-US\",\"href\":\"https://search.earthdata.nasa.gov/search?q=C2021957295-LPCLOUD\"},{\"rel\":\"http://esipfed.org/ns/fedsearch/1.1/metadata#\",\"hreflang\":\"en-US\",\"href\":\"https://doi.org/10.5067/HLS/HLSS30.002\"},{\"rel\":\"http://esipfed.org/ns/fedsearch/1.1/metadata#\",\"hreflang\":\"en-US\",\"href\":\"https://lpdaac.usgs.gov/\"},{\"rel\":\"http://esipfed.org/ns/fedsearch/1.1/documentation#\",\"hreflang\":\"en-US\",\"href\":\"https://lpdaac.usgs.gov/documents/1118/HLS_User_Guide_V2.pdf\"},{\"rel\":\"http://esipfed.org/ns/fedsearch/1.1/documentation#\",\"hreflang\":\"en-US\",\"href\":\"https://lpdaac.usgs.gov/documents/769/HLS_ATBD_V15_provisional.pdf\"},{\"rel\":\"http://esipfed.org/ns/fedsearch/1.1/documentation#\",\"hreflang\":\"en-US\",\"href\":\"https://lpdaac.usgs.gov/documents/768/HLS_Quick_Guide_v011.pdf\"},{\"rel\":\"http://esipfed.org/ns/fedsearch/1.1/documentation#\",\"hreflang\":\"en-US\",\"href\":\"https://git.earthdata.nasa.gov/projects/LPDUR/repos/hls-tutorial/browse\"},{\"rel\":\"http://esipfed.org/ns/fedsearch/1.1/documentation#\",\"hreflang\":\"en-US\",\"href\":\"https://git.earthdata.nasa.gov/projects/LPDUR/repos/hls-super-script/browse\"},{\"rel\":\"http://esipfed.org/ns/fedsearch/1.1/browse#\",\"hreflang\":\"en-US\",\"href\":\"https://cmr.earthdata.nasa.gov/browse-scaler/browse_images/granules/G2095548655-LPCLOUD?h=512&w=512\"},{\"rel\":\"http://esipfed.org/ns/fedsearch/1.1/documentation#\",\"hreflang\":\"en-US\",\"href\":\"https://git.earthdata.nasa.gov/projects/LPDUR/repos/hls-bulk-download/browse\"},{\"rel\":\"http://esipfed.org/ns/fedsearch/1.1/documentation#\",\"hreflang\":\"en-US\",\"href\":\"https://lpdaac.usgs.gov/resources/e-learning/getting-started-with-cloud-native-harmonized-landsat-sentinel-2-hls-data-in-r/\"},{\"rel\":\"http://esipfed.org/ns/fedsearch/1.1/browse#\",\"hreflang\":\"en-US\",\"href\":\"https://wiki.earthdata.nasa.gov/pages/viewpage.action?pageId=195432390\"},{\"rel\":\"http://esipfed.org/ns/fedsearch/1.1/browse#\",\"hreflang\":\"en-US\",\"href\":\"https://worldview.earthdata.nasa.gov/?v=-191.12397594071413,-86.52209371542455,182.39111268571813,89.5139950740695&t=2020-10-15-T16%3A46%3A06Z&l=Reference_Labels(hidden),Reference_Features(hidden),Coastlines,HLS_S30_Nadir_BRDF_Adjusted_Reflectance(hidden),VIIRS_NOAA20_CorrectedReflectance_TrueColor(hidden),VIIRS_SNPP_CorrectedReflectance_TrueColor(hidden),MODIS_Aqua_CorrectedReflectance_TrueColor(hidden),MODIS_Terra_CorrectedReflectance_TrueColor&tr=hls_intro \"}]},{\"processing_level_id\":\"3\",\"boxes\":[\"-83 -180 82 180\"],\"time_start\":\"2000-03-01T00:00:00.000Z\",\"version_id\":\"003\",\"updated\":\"2015-09-30T10:42:35.418Z\",\"dataset_id\":\"ASTER Global Digital Elevation Model V003\",\"has_spatial_subsetting\":false,\"has_transforms\":false,\"has_variables\":false,\"data_center\":\"LPCLOUD\",\"short_name\":\"ASTGTM\",\"organizations\":[\"LP DAAC\",\"NASA/JPL/ASTER\"],\"title\":\"ASTER Global Digital Elevation Model V003\",\"coordinate_system\":\"CARTESIAN\",\"summary\":\"The ASTER Global Digital Elevation Model (GDEM) Version 3 (ASTGTM) provides a global digital elevation model (DEM) of land areas on Earth at a spatial resolution of 1 arc second (approximately 30 meter horizontal posting at the equator).\\\\r\\\\n\\\\r\\\\nThe development of the ASTER GDEM data products is a collaborative effort between National Aeronautics and Space Administration (NASA) and Japan\\xe2\\x80\\x99s Ministry of Economy, Trade, and Industry (METI). The ASTER GDEM data products are created by the Sensor Information Laboratory Corporation (SILC) in Tokyo. \\\\r\\\\n\\\\r\\\\nThe ASTER GDEM Version 3 data product was created from the automated processing of the entire ASTER Level 1A (https://doi.org/10.5067/ASTER/AST_L1A.003) archive of scenes acquired between March 1, 2000, and November 30, 2013. Stereo correlation was used to produce over one million individual scene based ASTER DEMs, to which cloud masking was applied. All cloud screened DEMs and non-cloud screened DEMs were stacked. Residual bad values and outliers were removed. In areas with limited data stacking, several existing reference DEMs were used to supplement ASTER data to correct for residual anomalies. Selected data were averaged to create final pixel values before partitioning the data into 1 degree latitude by 1 degree longitude tiles with a one pixel overlap. To correct elevation values of water body surfaces, the ASTER Global Water Bodies Database (ASTWBD) (https://doi.org/10.5067/ASTER/ASTWBD.001) Version 1 data product was also generated. \\\\r\\\\n\\\\r\\\\nThe geographic coverage of the ASTER GDEM extends from 83\\xc2\\xb0 North to 83\\xc2\\xb0 South. Each tile is distributed in GeoTIFF format and projected on the 1984 World Geodetic System (WGS84)/1996 Earth Gravitational Model (EGM96) geoid. Each of the 22,912 tiles in the collection contain at least 0.01% land area. \\\\r\\\\n\\\\r\\\\nProvided in the ASTER GDEM product are layers for DEM and number of scenes (NUM). The NUM layer indicates the number of scenes that were processed for each pixel and the source of the data.\\\\r\\\\n\\\\r\\\\nWhile the ASTER GDEM Version 3 data products offer substantial improvements over Version 2, users are advised that the products still may contain anomalies and artifacts that will reduce its usability for certain applications. \\\\r\\\\n\\\\r\\\\nImprovements/Changes from Previous Versions \\\\r\\\\n\\xe2\\x80\\xa2 Expansion of acquisition coverage to increase the amount of cloud-free input scenes from about 1.5 million in Version 2 to about 1.88 million scenes in Version 3.\\\\r\\\\n\\xe2\\x80\\xa2 Separation of rivers from lakes in the water body processing. \\\\r\\\\n\\xe2\\x80\\xa2 Minimum water body detection size decreased from 1 km2 to 0.2 km2. \",\"time_end\":\"2013-11-30T23:59:59.999Z\",\"service_features\":{\"opendap\":{\"has_formats\":false,\"has_variables\":false,\"has_transforms\":false,\"has_spatial_subsetting\":false,\"has_temporal_subsetting\":false},\"esi\":{\"has_formats\":false,\"has_variables\":false,\"has_transforms\":false,\"has_spatial_subsetting\":false,\"has_temporal_subsetting\":false},\"harmony\":{\"has_formats\":false,\"has_variables\":false,\"has_transforms\":false,\"has_spatial_subsetting\":false,\"has_temporal_subsetting\":false}},\"orbit_parameters\":{},\"id\":\"C1711961296-LPCLOUD\",\"has_formats\":false,\"consortiums\":[\"GEOSS\",\"EOSDIS\"],\"original_format\":\"UMM_JSON\",\"archive_center\":\"LP DAAC\",\"has_temporal_subsetting\":false,\"browse_flag\":true,\"platforms\":[\"Terra\"],\"online_access_flag\":true,\"links\":[{\"rel\":\"http://esipfed.org/ns/fedsearch/1.1/data#\",\"hreflang\":\"en-US\",\"href\":\"https://search.earthdata.nasa.gov/search?q= C1711961296-LPCLOUD\"},{\"rel\":\"http://esipfed.org/ns/fedsearch/1.1/metadata#\",\"hreflang\":\"en-US\",\"href\":\"https://doi.org/10.5067/ASTER/ASTGTM.003\"},{\"rel\":\"http://esipfed.org/ns/fedsearch/1.1/metadata#\",\"hreflang\":\"en-US\",\"href\":\"https://lpdaac.usgs.gov\"},{\"rel\":\"http://esipfed.org/ns/fedsearch/1.1/metadata#\",\"hreflang\":\"en-US\",\"href\":\"https://asterweb.jpl.nasa.gov/\"},{\"rel\":\"http://esipfed.org/ns/fedsearch/1.1/documentation#\",\"hreflang\":\"en-US\",\"href\":\"https://lpdaac.usgs.gov/documents/434/ASTGTM_User_Guide_V3.pdf\"},{\"rel\":\"http://esipfed.org/ns/fedsearch/1.1/browse#\",\"hreflang\":\"en-US\",\"href\":\"https://cmr.earthdata.nasa.gov/browse-scaler/browse_images/granules/G1726374754-LPCLOUD?h=512&w=512\"}]}]}}'"
      ]
     },
     "execution_count": 13,
     "metadata": {},
     "output_type": "execute_result"
    }
   ],
   "source": [
    "response.content"
   ]
  },
  {
   "cell_type": "markdown",
   "id": "introductory-manor",
   "metadata": {},
   "source": [
    "A more convenient way to work with this information is to use `json` formatted data. I'm using pretty print `pprint` to print the data in an easy to read way.    \n",
    "\n",
    "**Note**\n",
    "- `response.json()` will format our response in `json` \n",
    "- `['feed']['entry']` returns all entries that CMR returned in the request (not the same as __CMR-Hits__)\n",
    "- `[0]` returns the first entry. Reminder that python starts indexing at 0, not 1!"
   ]
  },
  {
   "cell_type": "code",
   "execution_count": 14,
   "id": "frequent-tucson",
   "metadata": {},
   "outputs": [
    {
     "name": "stdout",
     "output_type": "stream",
     "text": [
      "{'archive_center': 'LP DAAC',\n",
      " 'boxes': ['-90 -180 90 180'],\n",
      " 'browse_flag': True,\n",
      " 'collection_data_type': 'OTHER',\n",
      " 'consortiums': ['GEOSS', 'EOSDIS'],\n",
      " 'coordinate_system': 'CARTESIAN',\n",
      " 'data_center': 'LPCLOUD',\n",
      " 'dataset_id': 'HLS Landsat Operational Land Imager Surface Reflectance and '\n",
      "               'TOA Brightness Daily Global 30m v2.0',\n",
      " 'has_formats': False,\n",
      " 'has_spatial_subsetting': False,\n",
      " 'has_temporal_subsetting': False,\n",
      " 'has_transforms': False,\n",
      " 'has_variables': False,\n",
      " 'id': 'C2021957657-LPCLOUD',\n",
      " 'links': [{'href': 'https://search.earthdata.nasa.gov/search?q=C2021957657-LPCLOUD',\n",
      "            'hreflang': 'en-US',\n",
      "            'rel': 'http://esipfed.org/ns/fedsearch/1.1/data#'},\n",
      "           {'href': 'https://doi.org/10.5067/HLS/HLSL30.002',\n",
      "            'hreflang': 'en-US',\n",
      "            'rel': 'http://esipfed.org/ns/fedsearch/1.1/metadata#'},\n",
      "           {'href': 'https://lpdaac.usgs.gov/',\n",
      "            'hreflang': 'en-US',\n",
      "            'rel': 'http://esipfed.org/ns/fedsearch/1.1/metadata#'},\n",
      "           {'href': 'https://lpdaac.usgs.gov/documents/1118/HLS_User_Guide_V2.pdf',\n",
      "            'hreflang': 'en-US',\n",
      "            'rel': 'http://esipfed.org/ns/fedsearch/1.1/documentation#'},\n",
      "           {'href': 'https://lpdaac.usgs.gov/documents/769/HLS_ATBD_V15_provisional.pdf',\n",
      "            'hreflang': 'en-US',\n",
      "            'rel': 'http://esipfed.org/ns/fedsearch/1.1/documentation#'},\n",
      "           {'href': 'https://lpdaac.usgs.gov/documents/768/HLS_Quick_Guide_v011.pdf',\n",
      "            'hreflang': 'en-US',\n",
      "            'rel': 'http://esipfed.org/ns/fedsearch/1.1/documentation#'},\n",
      "           {'href': 'https://git.earthdata.nasa.gov/projects/LPDUR/repos/hls-tutorial/browse',\n",
      "            'hreflang': 'en-US',\n",
      "            'rel': 'http://esipfed.org/ns/fedsearch/1.1/documentation#'},\n",
      "           {'href': 'https://git.earthdata.nasa.gov/projects/LPDUR/repos/hls-super-script/browse',\n",
      "            'hreflang': 'en-US',\n",
      "            'rel': 'http://esipfed.org/ns/fedsearch/1.1/documentation#'},\n",
      "           {'href': 'https://cmr.earthdata.nasa.gov/browse-scaler/browse_images/granules/G2095313663-LPCLOUD?h=512&w=512',\n",
      "            'hreflang': 'en-US',\n",
      "            'rel': 'http://esipfed.org/ns/fedsearch/1.1/browse#'},\n",
      "           {'href': 'https://git.earthdata.nasa.gov/projects/LPDUR/repos/hls-bulk-download/browse',\n",
      "            'hreflang': 'en-US',\n",
      "            'rel': 'http://esipfed.org/ns/fedsearch/1.1/documentation#'},\n",
      "           {'href': 'https://lpdaac.usgs.gov/resources/e-learning/getting-started-with-cloud-native-harmonized-landsat-sentinel-2-hls-data-in-r/',\n",
      "            'hreflang': 'en-US',\n",
      "            'rel': 'http://esipfed.org/ns/fedsearch/1.1/documentation#'}],\n",
      " 'online_access_flag': True,\n",
      " 'orbit_parameters': {},\n",
      " 'organizations': ['LP DAAC', 'NASA/IMPACT'],\n",
      " 'original_format': 'UMM_JSON',\n",
      " 'platforms': ['LANDSAT-8'],\n",
      " 'processing_level_id': '3',\n",
      " 'service_features': {'esi': {'has_formats': False,\n",
      "                              'has_spatial_subsetting': False,\n",
      "                              'has_temporal_subsetting': False,\n",
      "                              'has_transforms': False,\n",
      "                              'has_variables': False},\n",
      "                      'harmony': {'has_formats': False,\n",
      "                                  'has_spatial_subsetting': False,\n",
      "                                  'has_temporal_subsetting': False,\n",
      "                                  'has_transforms': False,\n",
      "                                  'has_variables': False},\n",
      "                      'opendap': {'has_formats': False,\n",
      "                                  'has_spatial_subsetting': False,\n",
      "                                  'has_temporal_subsetting': False,\n",
      "                                  'has_transforms': False,\n",
      "                                  'has_variables': False}},\n",
      " 'short_name': 'HLSL30',\n",
      " 'summary': 'The Harmonized Landsat and Sentinel-2 (HLS) project provides '\n",
      "            'consistent surface reflectance (SR) and top of atmosphere (TOA) '\n",
      "            'brightness data from the Operational Land Imager (OLI) aboard the '\n",
      "            'joint NASA/USGS Landsat 8 satellite and the Multi-Spectral '\n",
      "            'Instrument (MSI) aboard Europe’s Copernicus Sentinel-2A and '\n",
      "            'Sentinel-2B satellites. The combined measurement enables global '\n",
      "            'observations of the land every 2–3 days at 30-meter (m) spatial '\n",
      "            'resolution. The HLS project uses a set of algorithms to obtain '\n",
      "            'seamless products from OLI and MSI that include atmospheric '\n",
      "            'correction, cloud and cloud-shadow masking, spatial '\n",
      "            'co-registration and common gridding, illumination and view angle '\n",
      "            'normalization, and spectral bandpass adjustment.\\r\\n'\n",
      "            '\\r\\n'\n",
      "            'The HLSL30 product provides 30-m Nadir Bidirectional Reflectance '\n",
      "            'Distribution Function (BRDF)-Adjusted Reflectance (NBAR) and is '\n",
      "            'derived from Landsat 8 OLI data products. The HLSS30 and HLSL30 '\n",
      "            'products are gridded to the same resolution and Military Grid '\n",
      "            'Reference System '\n",
      "            '([MGRS](https://hls.gsfc.nasa.gov/products-description/tiling-system/)) '\n",
      "            'tiling system, and thus are “stackable” for time series '\n",
      "            'analysis.\\r\\n'\n",
      "            '\\r\\n'\n",
      "            'The HLSL30 product is provided in Cloud Optimized GeoTIFF (COG) '\n",
      "            'format, and each band is distributed as a separate file. There '\n",
      "            'are 11 bands included in the HLSL30 product along with one '\n",
      "            'quality assessment (QA) band and four angle bands. See the User '\n",
      "            'Guide for a more detailed description of the individual bands '\n",
      "            'provided in the HLSL30 product.',\n",
      " 'time_start': '2013-04-11T00:00:00.000Z',\n",
      " 'title': 'HLS Landsat Operational Land Imager Surface Reflectance and TOA '\n",
      "          'Brightness Daily Global 30m v2.0',\n",
      " 'updated': '2015-12-03T10:57:07.000Z',\n",
      " 'version_id': '2.0'}\n"
     ]
    }
   ],
   "source": [
    "pprint(response.json()['feed']['entry'][0])"
   ]
  },
  {
   "cell_type": "markdown",
   "id": "viral-campus",
   "metadata": {},
   "source": [
    "The first response contains a lot more information than we need. We'll narrow in on a few fields to get a feel for what we have. We'll print the name of the dataset (`dataset_id`) and the concept id (`id`). We can build this variable and print statement like we did above with the `url` variable. "
   ]
  },
  {
   "cell_type": "code",
   "execution_count": 15,
   "id": "radio-lightning",
   "metadata": {},
   "outputs": [],
   "source": [
    "collections = response.json()['feed']['entry']"
   ]
  },
  {
   "cell_type": "code",
   "execution_count": 16,
   "id": "other-grant",
   "metadata": {},
   "outputs": [
    {
     "name": "stdout",
     "output_type": "stream",
     "text": [
      "LP DAAC | HLS Landsat Operational Land Imager Surface Reflectance and TOA Brightness Daily Global 30m v2.0 | C2021957657-LPCLOUD\n",
      "LP DAAC | HLS Sentinel-2 Multi-spectral Instrument Surface Reflectance Daily Global 30m v2.0 | C2021957295-LPCLOUD\n",
      "LP DAAC | ASTER Global Digital Elevation Model V003 | C1711961296-LPCLOUD\n"
     ]
    }
   ],
   "source": [
    "for collection in collections:\n",
    "    print(f'{collection[\"archive_center\"]} | {collection[\"dataset_id\"]} | {collection[\"id\"]}')"
   ]
  },
  {
   "cell_type": "markdown",
   "id": "injured-services",
   "metadata": {},
   "source": [
    "In some situations we may be expecting a certain number of results. Only 10 datasets are return be default. This can be modified by setting the `page_size` parameter to a different any value less than or equal to 2000 (2000 is the maximum number of results return by CMR). Note, this is different that what we see from `CMR-Hits` in the header, which is the number of entries found that are available for request."
   ]
  },
  {
   "cell_type": "markdown",
   "id": "swedish-engineer",
   "metadata": {},
   "source": [
    "## Searching for Granules\n",
    "In NASA speak, Granules are files or groups of files. In this example, we will search for ECO2LSTE version 1 for a specified region of interest and datetime range.  \n",
    "\n",
    "We need to change the resource url to look for __granules__ instead of collections"
   ]
  },
  {
   "cell_type": "code",
   "execution_count": 17,
   "id": "unlimited-underwear",
   "metadata": {},
   "outputs": [],
   "source": [
    "url = f'{CMR_OPS}/{\"granules\"}'"
   ]
  },
  {
   "cell_type": "markdown",
   "id": "industrial-typing",
   "metadata": {},
   "source": [
    "We will search by `concept_id`, `temporal`, and `bounding_box`.  Details about these search parameters can be found in the CMR API Documentation.\n",
    "\n",
    "The formatting of the values for each parameter is quite specific.\n",
    "\n",
    "__concept_id__ parameter is one to many collections/collection id(s) assigned to a list   \n",
    "__temporal__ parameter are dates in ISO 8061 format `yyyy-MM-ddTHH:mm:ssZ`    \n",
    "__bounding_box__ parameter are coordinates in the order: lower left longitude, lower left latitude, upper right longitude, upper right latitude  "
   ]
  },
  {
   "cell_type": "code",
   "execution_count": 18,
   "id": "a3769176-73bc-4d80-8284-a0f0b15dc7ea",
   "metadata": {},
   "outputs": [],
   "source": [
    "collection_id = ['C2021957657-LPCLOUD', 'C2021957295-LPCLOUD']\n",
    "date_range = '2020-10-17T00:00:00Z,2020-11-18T23:59:59Z'\n",
    "bbox = '-120.45264628,34.51050622,-120.40432448,34.53239876'"
   ]
  },
  {
   "cell_type": "code",
   "execution_count": 19,
   "id": "identified-johnson",
   "metadata": {},
   "outputs": [
    {
     "name": "stdout",
     "output_type": "stream",
     "text": [
      "200\n"
     ]
    }
   ],
   "source": [
    "response = requests.get(url, \n",
    "                        params={\n",
    "                            'concept_id': collection_id,\n",
    "                            'temporal': date_range,\n",
    "                            'bounding_box': bbox,\n",
    "                            'page_size': 200,\n",
    "                            },\n",
    "                        headers={\n",
    "                            'Accept': 'application/json'\n",
    "                            }\n",
    "                       )\n",
    "print(response.status_code)"
   ]
  },
  {
   "cell_type": "code",
   "execution_count": 20,
   "id": "aggressive-repair",
   "metadata": {},
   "outputs": [
    {
     "name": "stdout",
     "output_type": "stream",
     "text": [
      "10\n"
     ]
    }
   ],
   "source": [
    "print(response.headers['CMR-Hits'])"
   ]
  },
  {
   "cell_type": "code",
   "execution_count": 21,
   "id": "animal-facing",
   "metadata": {},
   "outputs": [
    {
     "name": "stdout",
     "output_type": "stream",
     "text": [
      "LPCLOUD | HLS Sentinel-2 Multi-spectral Instrument Surface Reflectance Daily Global 30m v2.0 | G2167580011-LPCLOUD\n",
      "LPCLOUD | HLS Landsat Operational Land Imager Surface Reflectance and TOA Brightness Daily Global 30m v2.0 | G2152756095-LPCLOUD\n",
      "LPCLOUD | HLS Sentinel-2 Multi-spectral Instrument Surface Reflectance Daily Global 30m v2.0 | G2167475882-LPCLOUD\n",
      "LPCLOUD | HLS Sentinel-2 Multi-spectral Instrument Surface Reflectance Daily Global 30m v2.0 | G2167295721-LPCLOUD\n",
      "LPCLOUD | HLS Landsat Operational Land Imager Surface Reflectance and TOA Brightness Daily Global 30m v2.0 | G2152682346-LPCLOUD\n",
      "LPCLOUD | HLS Sentinel-2 Multi-spectral Instrument Surface Reflectance Daily Global 30m v2.0 | G2166867404-LPCLOUD\n",
      "LPCLOUD | HLS Sentinel-2 Multi-spectral Instrument Surface Reflectance Daily Global 30m v2.0 | G2166768089-LPCLOUD\n",
      "LPCLOUD | HLS Sentinel-2 Multi-spectral Instrument Surface Reflectance Daily Global 30m v2.0 | G2166693426-LPCLOUD\n",
      "LPCLOUD | HLS Landsat Operational Land Imager Surface Reflectance and TOA Brightness Daily Global 30m v2.0 | G2152120260-LPCLOUD\n",
      "LPCLOUD | HLS Sentinel-2 Multi-spectral Instrument Surface Reflectance Daily Global 30m v2.0 | G2165191762-LPCLOUD\n"
     ]
    }
   ],
   "source": [
    "granules = response.json()['feed']['entry']\n",
    "for granule in granules:\n",
    "    print(f'{granule[\"data_center\"]} | {granule[\"dataset_id\"]} | {granule[\"id\"]}')"
   ]
  },
  {
   "cell_type": "code",
   "execution_count": 22,
   "id": "deluxe-blues",
   "metadata": {},
   "outputs": [
    {
     "name": "stdout",
     "output_type": "stream",
     "text": [
      "{'browse_flag': True,\n",
      " 'collection_concept_id': 'C2021957295-LPCLOUD',\n",
      " 'coordinate_system': 'GEODETIC',\n",
      " 'data_center': 'LPCLOUD',\n",
      " 'dataset_id': 'HLS Sentinel-2 Multi-spectral Instrument Surface Reflectance '\n",
      "               'Daily Global 30m v2.0',\n",
      " 'day_night_flag': 'DAY',\n",
      " 'id': 'G2167580011-LPCLOUD',\n",
      " 'links': [{'href': 'https://data.lpdaac.earthdatacloud.nasa.gov/lp-prod-protected/HLSS30.020/HLS.S30.T10SGD.2020292T184411.v2.0/HLS.S30.T10SGD.2020292T184411.v2.0.B09.tif',\n",
      "            'hreflang': 'en-US',\n",
      "            'rel': 'http://esipfed.org/ns/fedsearch/1.1/data#',\n",
      "            'title': 'Download HLS.S30.T10SGD.2020292T184411.v2.0.B09.tif'},\n",
      "           {'href': 's3://lp-prod-protected/HLSS30.020/HLS.S30.T10SGD.2020292T184411.v2.0/HLS.S30.T10SGD.2020292T184411.v2.0.B09.tif',\n",
      "            'hreflang': 'en-US',\n",
      "            'rel': 'http://esipfed.org/ns/fedsearch/1.1/s3#',\n",
      "            'title': 'This link provides direct download access via S3 to the '\n",
      "                     'granule'},\n",
      "           {'href': 'https://data.lpdaac.earthdatacloud.nasa.gov/lp-prod-protected/HLSS30.020/HLS.S30.T10SGD.2020292T184411.v2.0/HLS.S30.T10SGD.2020292T184411.v2.0.B07.tif',\n",
      "            'hreflang': 'en-US',\n",
      "            'rel': 'http://esipfed.org/ns/fedsearch/1.1/data#',\n",
      "            'title': 'Download HLS.S30.T10SGD.2020292T184411.v2.0.B07.tif'},\n",
      "           {'href': 's3://lp-prod-protected/HLSS30.020/HLS.S30.T10SGD.2020292T184411.v2.0/HLS.S30.T10SGD.2020292T184411.v2.0.B07.tif',\n",
      "            'hreflang': 'en-US',\n",
      "            'rel': 'http://esipfed.org/ns/fedsearch/1.1/s3#',\n",
      "            'title': 'This link provides direct download access via S3 to the '\n",
      "                     'granule'},\n",
      "           {'href': 'https://data.lpdaac.earthdatacloud.nasa.gov/lp-prod-protected/HLSS30.020/HLS.S30.T10SGD.2020292T184411.v2.0/HLS.S30.T10SGD.2020292T184411.v2.0.B01.tif',\n",
      "            'hreflang': 'en-US',\n",
      "            'rel': 'http://esipfed.org/ns/fedsearch/1.1/data#',\n",
      "            'title': 'Download HLS.S30.T10SGD.2020292T184411.v2.0.B01.tif'},\n",
      "           {'href': 's3://lp-prod-protected/HLSS30.020/HLS.S30.T10SGD.2020292T184411.v2.0/HLS.S30.T10SGD.2020292T184411.v2.0.B01.tif',\n",
      "            'hreflang': 'en-US',\n",
      "            'rel': 'http://esipfed.org/ns/fedsearch/1.1/s3#',\n",
      "            'title': 'This link provides direct download access via S3 to the '\n",
      "                     'granule'},\n",
      "           {'href': 'https://data.lpdaac.earthdatacloud.nasa.gov/lp-prod-protected/HLSS30.020/HLS.S30.T10SGD.2020292T184411.v2.0/HLS.S30.T10SGD.2020292T184411.v2.0.B04.tif',\n",
      "            'hreflang': 'en-US',\n",
      "            'rel': 'http://esipfed.org/ns/fedsearch/1.1/data#',\n",
      "            'title': 'Download HLS.S30.T10SGD.2020292T184411.v2.0.B04.tif'},\n",
      "           {'href': 's3://lp-prod-protected/HLSS30.020/HLS.S30.T10SGD.2020292T184411.v2.0/HLS.S30.T10SGD.2020292T184411.v2.0.B04.tif',\n",
      "            'hreflang': 'en-US',\n",
      "            'rel': 'http://esipfed.org/ns/fedsearch/1.1/s3#',\n",
      "            'title': 'This link provides direct download access via S3 to the '\n",
      "                     'granule'},\n",
      "           {'href': 'https://data.lpdaac.earthdatacloud.nasa.gov/lp-prod-protected/HLSS30.020/HLS.S30.T10SGD.2020292T184411.v2.0/HLS.S30.T10SGD.2020292T184411.v2.0.B12.tif',\n",
      "            'hreflang': 'en-US',\n",
      "            'rel': 'http://esipfed.org/ns/fedsearch/1.1/data#',\n",
      "            'title': 'Download HLS.S30.T10SGD.2020292T184411.v2.0.B12.tif'},\n",
      "           {'href': 's3://lp-prod-protected/HLSS30.020/HLS.S30.T10SGD.2020292T184411.v2.0/HLS.S30.T10SGD.2020292T184411.v2.0.B12.tif',\n",
      "            'hreflang': 'en-US',\n",
      "            'rel': 'http://esipfed.org/ns/fedsearch/1.1/s3#',\n",
      "            'title': 'This link provides direct download access via S3 to the '\n",
      "                     'granule'},\n",
      "           {'href': 'https://data.lpdaac.earthdatacloud.nasa.gov/lp-prod-protected/HLSS30.020/HLS.S30.T10SGD.2020292T184411.v2.0/HLS.S30.T10SGD.2020292T184411.v2.0.SZA.tif',\n",
      "            'hreflang': 'en-US',\n",
      "            'rel': 'http://esipfed.org/ns/fedsearch/1.1/data#',\n",
      "            'title': 'Download HLS.S30.T10SGD.2020292T184411.v2.0.SZA.tif'},\n",
      "           {'href': 's3://lp-prod-protected/HLSS30.020/HLS.S30.T10SGD.2020292T184411.v2.0/HLS.S30.T10SGD.2020292T184411.v2.0.SZA.tif',\n",
      "            'hreflang': 'en-US',\n",
      "            'rel': 'http://esipfed.org/ns/fedsearch/1.1/s3#',\n",
      "            'title': 'This link provides direct download access via S3 to the '\n",
      "                     'granule'},\n",
      "           {'href': 'https://data.lpdaac.earthdatacloud.nasa.gov/lp-prod-protected/HLSS30.020/HLS.S30.T10SGD.2020292T184411.v2.0/HLS.S30.T10SGD.2020292T184411.v2.0.B03.tif',\n",
      "            'hreflang': 'en-US',\n",
      "            'rel': 'http://esipfed.org/ns/fedsearch/1.1/data#',\n",
      "            'title': 'Download HLS.S30.T10SGD.2020292T184411.v2.0.B03.tif'},\n",
      "           {'href': 's3://lp-prod-protected/HLSS30.020/HLS.S30.T10SGD.2020292T184411.v2.0/HLS.S30.T10SGD.2020292T184411.v2.0.B03.tif',\n",
      "            'hreflang': 'en-US',\n",
      "            'rel': 'http://esipfed.org/ns/fedsearch/1.1/s3#',\n",
      "            'title': 'This link provides direct download access via S3 to the '\n",
      "                     'granule'},\n",
      "           {'href': 'https://data.lpdaac.earthdatacloud.nasa.gov/lp-prod-protected/HLSS30.020/HLS.S30.T10SGD.2020292T184411.v2.0/HLS.S30.T10SGD.2020292T184411.v2.0.B11.tif',\n",
      "            'hreflang': 'en-US',\n",
      "            'rel': 'http://esipfed.org/ns/fedsearch/1.1/data#',\n",
      "            'title': 'Download HLS.S30.T10SGD.2020292T184411.v2.0.B11.tif'},\n",
      "           {'href': 's3://lp-prod-protected/HLSS30.020/HLS.S30.T10SGD.2020292T184411.v2.0/HLS.S30.T10SGD.2020292T184411.v2.0.B11.tif',\n",
      "            'hreflang': 'en-US',\n",
      "            'rel': 'http://esipfed.org/ns/fedsearch/1.1/s3#',\n",
      "            'title': 'This link provides direct download access via S3 to the '\n",
      "                     'granule'},\n",
      "           {'href': 'https://data.lpdaac.earthdatacloud.nasa.gov/lp-prod-protected/HLSS30.020/HLS.S30.T10SGD.2020292T184411.v2.0/HLS.S30.T10SGD.2020292T184411.v2.0.B02.tif',\n",
      "            'hreflang': 'en-US',\n",
      "            'rel': 'http://esipfed.org/ns/fedsearch/1.1/data#',\n",
      "            'title': 'Download HLS.S30.T10SGD.2020292T184411.v2.0.B02.tif'},\n",
      "           {'href': 's3://lp-prod-protected/HLSS30.020/HLS.S30.T10SGD.2020292T184411.v2.0/HLS.S30.T10SGD.2020292T184411.v2.0.B02.tif',\n",
      "            'hreflang': 'en-US',\n",
      "            'rel': 'http://esipfed.org/ns/fedsearch/1.1/s3#',\n",
      "            'title': 'This link provides direct download access via S3 to the '\n",
      "                     'granule'},\n",
      "           {'href': 'https://data.lpdaac.earthdatacloud.nasa.gov/lp-prod-protected/HLSS30.020/HLS.S30.T10SGD.2020292T184411.v2.0/HLS.S30.T10SGD.2020292T184411.v2.0.B08.tif',\n",
      "            'hreflang': 'en-US',\n",
      "            'rel': 'http://esipfed.org/ns/fedsearch/1.1/data#',\n",
      "            'title': 'Download HLS.S30.T10SGD.2020292T184411.v2.0.B08.tif'},\n",
      "           {'href': 's3://lp-prod-protected/HLSS30.020/HLS.S30.T10SGD.2020292T184411.v2.0/HLS.S30.T10SGD.2020292T184411.v2.0.B08.tif',\n",
      "            'hreflang': 'en-US',\n",
      "            'rel': 'http://esipfed.org/ns/fedsearch/1.1/s3#',\n",
      "            'title': 'This link provides direct download access via S3 to the '\n",
      "                     'granule'},\n",
      "           {'href': 'https://data.lpdaac.earthdatacloud.nasa.gov/lp-prod-protected/HLSS30.020/HLS.S30.T10SGD.2020292T184411.v2.0/HLS.S30.T10SGD.2020292T184411.v2.0.B10.tif',\n",
      "            'hreflang': 'en-US',\n",
      "            'rel': 'http://esipfed.org/ns/fedsearch/1.1/data#',\n",
      "            'title': 'Download HLS.S30.T10SGD.2020292T184411.v2.0.B10.tif'},\n",
      "           {'href': 's3://lp-prod-protected/HLSS30.020/HLS.S30.T10SGD.2020292T184411.v2.0/HLS.S30.T10SGD.2020292T184411.v2.0.B10.tif',\n",
      "            'hreflang': 'en-US',\n",
      "            'rel': 'http://esipfed.org/ns/fedsearch/1.1/s3#',\n",
      "            'title': 'This link provides direct download access via S3 to the '\n",
      "                     'granule'},\n",
      "           {'href': 'https://data.lpdaac.earthdatacloud.nasa.gov/lp-prod-protected/HLSS30.020/HLS.S30.T10SGD.2020292T184411.v2.0/HLS.S30.T10SGD.2020292T184411.v2.0.SAA.tif',\n",
      "            'hreflang': 'en-US',\n",
      "            'rel': 'http://esipfed.org/ns/fedsearch/1.1/data#',\n",
      "            'title': 'Download HLS.S30.T10SGD.2020292T184411.v2.0.SAA.tif'},\n",
      "           {'href': 's3://lp-prod-protected/HLSS30.020/HLS.S30.T10SGD.2020292T184411.v2.0/HLS.S30.T10SGD.2020292T184411.v2.0.SAA.tif',\n",
      "            'hreflang': 'en-US',\n",
      "            'rel': 'http://esipfed.org/ns/fedsearch/1.1/s3#',\n",
      "            'title': 'This link provides direct download access via S3 to the '\n",
      "                     'granule'},\n",
      "           {'href': 'https://data.lpdaac.earthdatacloud.nasa.gov/lp-prod-protected/HLSS30.020/HLS.S30.T10SGD.2020292T184411.v2.0/HLS.S30.T10SGD.2020292T184411.v2.0.VZA.tif',\n",
      "            'hreflang': 'en-US',\n",
      "            'rel': 'http://esipfed.org/ns/fedsearch/1.1/data#',\n",
      "            'title': 'Download HLS.S30.T10SGD.2020292T184411.v2.0.VZA.tif'},\n",
      "           {'href': 's3://lp-prod-protected/HLSS30.020/HLS.S30.T10SGD.2020292T184411.v2.0/HLS.S30.T10SGD.2020292T184411.v2.0.VZA.tif',\n",
      "            'hreflang': 'en-US',\n",
      "            'rel': 'http://esipfed.org/ns/fedsearch/1.1/s3#',\n",
      "            'title': 'This link provides direct download access via S3 to the '\n",
      "                     'granule'},\n",
      "           {'href': 'https://data.lpdaac.earthdatacloud.nasa.gov/lp-prod-protected/HLSS30.020/HLS.S30.T10SGD.2020292T184411.v2.0/HLS.S30.T10SGD.2020292T184411.v2.0.B05.tif',\n",
      "            'hreflang': 'en-US',\n",
      "            'rel': 'http://esipfed.org/ns/fedsearch/1.1/data#',\n",
      "            'title': 'Download HLS.S30.T10SGD.2020292T184411.v2.0.B05.tif'},\n",
      "           {'href': 's3://lp-prod-protected/HLSS30.020/HLS.S30.T10SGD.2020292T184411.v2.0/HLS.S30.T10SGD.2020292T184411.v2.0.B05.tif',\n",
      "            'hreflang': 'en-US',\n",
      "            'rel': 'http://esipfed.org/ns/fedsearch/1.1/s3#',\n",
      "            'title': 'This link provides direct download access via S3 to the '\n",
      "                     'granule'},\n",
      "           {'href': 'https://data.lpdaac.earthdatacloud.nasa.gov/lp-prod-protected/HLSS30.020/HLS.S30.T10SGD.2020292T184411.v2.0/HLS.S30.T10SGD.2020292T184411.v2.0.B06.tif',\n",
      "            'hreflang': 'en-US',\n",
      "            'rel': 'http://esipfed.org/ns/fedsearch/1.1/data#',\n",
      "            'title': 'Download HLS.S30.T10SGD.2020292T184411.v2.0.B06.tif'},\n",
      "           {'href': 's3://lp-prod-protected/HLSS30.020/HLS.S30.T10SGD.2020292T184411.v2.0/HLS.S30.T10SGD.2020292T184411.v2.0.B06.tif',\n",
      "            'hreflang': 'en-US',\n",
      "            'rel': 'http://esipfed.org/ns/fedsearch/1.1/s3#',\n",
      "            'title': 'This link provides direct download access via S3 to the '\n",
      "                     'granule'},\n",
      "           {'href': 'https://data.lpdaac.earthdatacloud.nasa.gov/lp-prod-protected/HLSS30.020/HLS.S30.T10SGD.2020292T184411.v2.0/HLS.S30.T10SGD.2020292T184411.v2.0.B8A.tif',\n",
      "            'hreflang': 'en-US',\n",
      "            'rel': 'http://esipfed.org/ns/fedsearch/1.1/data#',\n",
      "            'title': 'Download HLS.S30.T10SGD.2020292T184411.v2.0.B8A.tif'},\n",
      "           {'href': 's3://lp-prod-protected/HLSS30.020/HLS.S30.T10SGD.2020292T184411.v2.0/HLS.S30.T10SGD.2020292T184411.v2.0.B8A.tif',\n",
      "            'hreflang': 'en-US',\n",
      "            'rel': 'http://esipfed.org/ns/fedsearch/1.1/s3#',\n",
      "            'title': 'This link provides direct download access via S3 to the '\n",
      "                     'granule'},\n",
      "           {'href': 'https://data.lpdaac.earthdatacloud.nasa.gov/lp-prod-protected/HLSS30.020/HLS.S30.T10SGD.2020292T184411.v2.0/HLS.S30.T10SGD.2020292T184411.v2.0.Fmask.tif',\n",
      "            'hreflang': 'en-US',\n",
      "            'rel': 'http://esipfed.org/ns/fedsearch/1.1/data#',\n",
      "            'title': 'Download HLS.S30.T10SGD.2020292T184411.v2.0.Fmask.tif'},\n",
      "           {'href': 's3://lp-prod-protected/HLSS30.020/HLS.S30.T10SGD.2020292T184411.v2.0/HLS.S30.T10SGD.2020292T184411.v2.0.Fmask.tif',\n",
      "            'hreflang': 'en-US',\n",
      "            'rel': 'http://esipfed.org/ns/fedsearch/1.1/s3#',\n",
      "            'title': 'This link provides direct download access via S3 to the '\n",
      "                     'granule'},\n",
      "           {'href': 'https://data.lpdaac.earthdatacloud.nasa.gov/lp-prod-protected/HLSS30.020/HLS.S30.T10SGD.2020292T184411.v2.0/HLS.S30.T10SGD.2020292T184411.v2.0.VAA.tif',\n",
      "            'hreflang': 'en-US',\n",
      "            'rel': 'http://esipfed.org/ns/fedsearch/1.1/data#',\n",
      "            'title': 'Download HLS.S30.T10SGD.2020292T184411.v2.0.VAA.tif'},\n",
      "           {'href': 's3://lp-prod-protected/HLSS30.020/HLS.S30.T10SGD.2020292T184411.v2.0/HLS.S30.T10SGD.2020292T184411.v2.0.VAA.tif',\n",
      "            'hreflang': 'en-US',\n",
      "            'rel': 'http://esipfed.org/ns/fedsearch/1.1/s3#',\n",
      "            'title': 'This link provides direct download access via S3 to the '\n",
      "                     'granule'},\n",
      "           {'href': 'https://data.lpdaac.earthdatacloud.nasa.gov/lp-prod-public/HLSS30.020/HLS.S30.T10SGD.2020292T184411.v2.0/HLS.S30.T10SGD.2020292T184411.v2.0_stac.json',\n",
      "            'hreflang': 'en-US',\n",
      "            'rel': 'http://esipfed.org/ns/fedsearch/1.1/metadata#',\n",
      "            'title': 'Download HLS.S30.T10SGD.2020292T184411.v2.0_stac.json '\n",
      "                     '(EXTENDED METADATA)'},\n",
      "           {'href': 's3://lp-prod-public/HLSS30.020/HLS.S30.T10SGD.2020292T184411.v2.0/HLS.S30.T10SGD.2020292T184411.v2.0_stac.json',\n",
      "            'hreflang': 'en-US',\n",
      "            'rel': 'http://esipfed.org/ns/fedsearch/1.1/metadata#',\n",
      "            'title': 'This link provides direct download access via S3 to the '\n",
      "                     'granule (EXTENDED METADATA)'},\n",
      "           {'href': 'https://data.lpdaac.earthdatacloud.nasa.gov/lp-prod-protected/HLSS30.020/HLS.S30.T10SGD.2020292T184411.v2.0/HLS.S30.T10SGD.2020292T184411.v2.0.cmr.xml',\n",
      "            'hreflang': 'en-US',\n",
      "            'rel': 'http://esipfed.org/ns/fedsearch/1.1/metadata#',\n",
      "            'title': 'Download HLS.S30.T10SGD.2020292T184411.v2.0.cmr.xml '\n",
      "                     '(EXTENDED METADATA)'},\n",
      "           {'href': 's3://lp-prod-protected/HLSS30.020/HLS.S30.T10SGD.2020292T184411.v2.0/HLS.S30.T10SGD.2020292T184411.v2.0.cmr.xml',\n",
      "            'hreflang': 'en-US',\n",
      "            'rel': 'http://esipfed.org/ns/fedsearch/1.1/metadata#',\n",
      "            'title': 'This link provides direct download access via S3 to the '\n",
      "                     'granule (EXTENDED METADATA)'},\n",
      "           {'href': 'https://data.lpdaac.earthdatacloud.nasa.gov/s3credentials',\n",
      "            'hreflang': 'en-US',\n",
      "            'rel': 'http://esipfed.org/ns/fedsearch/1.1/metadata#',\n",
      "            'title': 'api endpoint to retrieve temporary credentials valid for '\n",
      "                     'same-region direct s3 access (VIEW RELATED INFORMATION)'},\n",
      "           {'href': 'https://data.lpdaac.earthdatacloud.nasa.gov/lp-prod-public/HLSS30.020/HLS.S30.T10SGD.2020292T184411.v2.0/HLS.S30.T10SGD.2020292T184411.v2.0.jpg',\n",
      "            'hreflang': 'en-US',\n",
      "            'rel': 'http://esipfed.org/ns/fedsearch/1.1/browse#',\n",
      "            'title': 'Download HLS.S30.T10SGD.2020292T184411.v2.0.jpg'},\n",
      "           {'href': 's3://lp-prod-public/HLSS30.020/HLS.S30.T10SGD.2020292T184411.v2.0/HLS.S30.T10SGD.2020292T184411.v2.0.jpg',\n",
      "            'hreflang': 'en-US',\n",
      "            'rel': 'http://esipfed.org/ns/fedsearch/1.1/browse#',\n",
      "            'title': 'This link provides direct download access via S3 to the '\n",
      "                     'granule'},\n",
      "           {'href': 'https://search.earthdata.nasa.gov/search?q=C2021957295-LPCLOUD',\n",
      "            'hreflang': 'en-US',\n",
      "            'inherited': True,\n",
      "            'rel': 'http://esipfed.org/ns/fedsearch/1.1/data#'},\n",
      "           {'href': 'https://doi.org/10.5067/HLS/HLSS30.002',\n",
      "            'hreflang': 'en-US',\n",
      "            'inherited': True,\n",
      "            'rel': 'http://esipfed.org/ns/fedsearch/1.1/metadata#'},\n",
      "           {'href': 'https://lpdaac.usgs.gov/',\n",
      "            'hreflang': 'en-US',\n",
      "            'inherited': True,\n",
      "            'rel': 'http://esipfed.org/ns/fedsearch/1.1/metadata#'},\n",
      "           {'href': 'https://lpdaac.usgs.gov/documents/1118/HLS_User_Guide_V2.pdf',\n",
      "            'hreflang': 'en-US',\n",
      "            'inherited': True,\n",
      "            'rel': 'http://esipfed.org/ns/fedsearch/1.1/documentation#'},\n",
      "           {'href': 'https://lpdaac.usgs.gov/documents/769/HLS_ATBD_V15_provisional.pdf',\n",
      "            'hreflang': 'en-US',\n",
      "            'inherited': True,\n",
      "            'rel': 'http://esipfed.org/ns/fedsearch/1.1/documentation#'},\n",
      "           {'href': 'https://lpdaac.usgs.gov/documents/768/HLS_Quick_Guide_v011.pdf',\n",
      "            'hreflang': 'en-US',\n",
      "            'inherited': True,\n",
      "            'rel': 'http://esipfed.org/ns/fedsearch/1.1/documentation#'},\n",
      "           {'href': 'https://git.earthdata.nasa.gov/projects/LPDUR/repos/hls-tutorial/browse',\n",
      "            'hreflang': 'en-US',\n",
      "            'inherited': True,\n",
      "            'rel': 'http://esipfed.org/ns/fedsearch/1.1/documentation#'},\n",
      "           {'href': 'https://git.earthdata.nasa.gov/projects/LPDUR/repos/hls-super-script/browse',\n",
      "            'hreflang': 'en-US',\n",
      "            'inherited': True,\n",
      "            'rel': 'http://esipfed.org/ns/fedsearch/1.1/documentation#'},\n",
      "           {'href': 'https://git.earthdata.nasa.gov/projects/LPDUR/repos/hls-bulk-download/browse',\n",
      "            'hreflang': 'en-US',\n",
      "            'inherited': True,\n",
      "            'rel': 'http://esipfed.org/ns/fedsearch/1.1/documentation#'},\n",
      "           {'href': 'https://lpdaac.usgs.gov/resources/e-learning/getting-started-with-cloud-native-harmonized-landsat-sentinel-2-hls-data-in-r/',\n",
      "            'hreflang': 'en-US',\n",
      "            'inherited': True,\n",
      "            'rel': 'http://esipfed.org/ns/fedsearch/1.1/documentation#'}],\n",
      " 'online_access_flag': True,\n",
      " 'original_format': 'ECHO10',\n",
      " 'polygons': [['34.2068165 -119.6382697 35.1952508 -119.5980052 35.2231329 '\n",
      "               '-120.8028976 34.2336951 -120.8289365 34.2068165 -119.6382697']],\n",
      " 'producer_granule_id': 'HLS.S30.T10SGD.2020292T184411',\n",
      " 'time_end': '2020-10-18T18:54:56.060Z',\n",
      " 'time_start': '2020-10-18T18:54:56.060Z',\n",
      " 'title': 'HLS.S30.T10SGD.2020292T184411.v2.0',\n",
      " 'updated': '2021-11-17T08:22:16.691Z'}\n"
     ]
    }
   ],
   "source": [
    "pprint(granules[0])"
   ]
  },
  {
   "cell_type": "code",
   "execution_count": null,
   "id": "opposed-times",
   "metadata": {},
   "outputs": [],
   "source": []
  }
 ],
 "metadata": {
  "kernelspec": {
   "display_name": "py39",
   "language": "python",
   "name": "py39"
  },
  "language_info": {
   "codemirror_mode": {
    "name": "ipython",
    "version": 3
   },
   "file_extension": ".py",
   "mimetype": "text/x-python",
   "name": "python",
   "nbconvert_exporter": "python",
   "pygments_lexer": "ipython3",
   "version": "3.9.10"
  }
 },
 "nbformat": 4,
 "nbformat_minor": 5
}
